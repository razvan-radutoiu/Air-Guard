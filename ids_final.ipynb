{
 "nbformat": 4,
 "nbformat_minor": 0,
 "metadata": {
  "colab": {
   "provenance": [],
   "gpuType": "T4",
   "authorship_tag": "ABX9TyMg0VPH7yyMZdEBPpvF7gX6"
  },
  "kernelspec": {
   "name": "python3",
   "display_name": "Python 3"
  },
  "language_info": {
   "name": "python"
  },
  "accelerator": "GPU"
 },
 "cells": [
  {
   "cell_type": "markdown",
   "source": [
    "# Classical NN (MLP)\n"
   ],
   "metadata": {
    "id": "KZwe3OaP_Es8"
   }
  },
  {
   "cell_type": "markdown",
   "source": [
    "**ONNX conversion**"
   ],
   "metadata": {
    "id": "7ENK72mO_M4M"
   }
  },
  {
   "cell_type": "code",
   "source": [
    "!pip install onnx tf2onnx\n",
    "!pip install tensorflow_decision_forests"
   ],
   "metadata": {
    "colab": {
     "base_uri": "https://localhost:8080/",
     "height": 1000
    },
    "id": "X4Zm4QYy4CMb",
    "executionInfo": {
     "status": "ok",
     "timestamp": 1719206056574,
     "user_tz": -180,
     "elapsed": 110518,
     "user": {
      "displayName": "Razvan Radutoiu",
      "userId": "02562257159567955024"
     }
    },
    "outputId": "c447718a-8245-4c29-cf79-958b4b9558de"
   },
   "execution_count": 4,
   "outputs": [
    {
     "output_type": "stream",
     "name": "stdout",
     "text": [
      "Requirement already satisfied: onnx in /usr/local/lib/python3.10/dist-packages (1.16.1)\n",
      "Requirement already satisfied: tf2onnx in /usr/local/lib/python3.10/dist-packages (1.16.1)\n",
      "Requirement already satisfied: numpy>=1.20 in /usr/local/lib/python3.10/dist-packages (from onnx) (1.25.2)\n",
      "Requirement already satisfied: protobuf>=3.20.2 in /usr/local/lib/python3.10/dist-packages (from onnx) (3.20.3)\n",
      "Requirement already satisfied: requests in /usr/local/lib/python3.10/dist-packages (from tf2onnx) (2.31.0)\n",
      "Requirement already satisfied: six in /usr/local/lib/python3.10/dist-packages (from tf2onnx) (1.16.0)\n",
      "Requirement already satisfied: flatbuffers>=1.12 in /usr/local/lib/python3.10/dist-packages (from tf2onnx) (24.3.25)\n",
      "Requirement already satisfied: charset-normalizer<4,>=2 in /usr/local/lib/python3.10/dist-packages (from requests->tf2onnx) (3.3.2)\n",
      "Requirement already satisfied: idna<4,>=2.5 in /usr/local/lib/python3.10/dist-packages (from requests->tf2onnx) (3.7)\n",
      "Requirement already satisfied: urllib3<3,>=1.21.1 in /usr/local/lib/python3.10/dist-packages (from requests->tf2onnx) (2.0.7)\n",
      "Requirement already satisfied: certifi>=2017.4.17 in /usr/local/lib/python3.10/dist-packages (from requests->tf2onnx) (2024.6.2)\n",
      "Collecting tensorflow_decision_forests\n",
      "  Downloading tensorflow_decision_forests-1.9.1-cp310-cp310-manylinux_2_17_x86_64.manylinux2014_x86_64.whl (15.5 MB)\n",
      "\u001B[2K     \u001B[90m━━━━━━━━━━━━━━━━━━━━━━━━━━━━━━━━━━━━━━━━\u001B[0m \u001B[32m15.5/15.5 MB\u001B[0m \u001B[31m36.4 MB/s\u001B[0m eta \u001B[36m0:00:00\u001B[0m\n",
      "\u001B[?25hRequirement already satisfied: numpy in /usr/local/lib/python3.10/dist-packages (from tensorflow_decision_forests) (1.25.2)\n",
      "Requirement already satisfied: pandas in /usr/local/lib/python3.10/dist-packages (from tensorflow_decision_forests) (2.0.3)\n",
      "Collecting tensorflow~=2.16.1 (from tensorflow_decision_forests)\n",
      "  Downloading tensorflow-2.16.1-cp310-cp310-manylinux_2_17_x86_64.manylinux2014_x86_64.whl (589.8 MB)\n",
      "\u001B[2K     \u001B[90m━━━━━━━━━━━━━━━━━━━━━━━━━━━━━━━━━━━━━━━━\u001B[0m \u001B[32m589.8/589.8 MB\u001B[0m \u001B[31m2.1 MB/s\u001B[0m eta \u001B[36m0:00:00\u001B[0m\n",
      "\u001B[?25hRequirement already satisfied: six in /usr/local/lib/python3.10/dist-packages (from tensorflow_decision_forests) (1.16.0)\n",
      "Requirement already satisfied: absl-py in /usr/local/lib/python3.10/dist-packages (from tensorflow_decision_forests) (1.4.0)\n",
      "Requirement already satisfied: wheel in /usr/local/lib/python3.10/dist-packages (from tensorflow_decision_forests) (0.43.0)\n",
      "Collecting wurlitzer (from tensorflow_decision_forests)\n",
      "  Downloading wurlitzer-3.1.1-py3-none-any.whl (8.6 kB)\n",
      "Collecting tf-keras~=2.16 (from tensorflow_decision_forests)\n",
      "  Downloading tf_keras-2.16.0-py3-none-any.whl (1.7 MB)\n",
      "\u001B[2K     \u001B[90m━━━━━━━━━━━━━━━━━━━━━━━━━━━━━━━━━━━━━━━━\u001B[0m \u001B[32m1.7/1.7 MB\u001B[0m \u001B[31m54.1 MB/s\u001B[0m eta \u001B[36m0:00:00\u001B[0m\n",
      "\u001B[?25hCollecting ydf (from tensorflow_decision_forests)\n",
      "  Downloading ydf-0.5.0-cp310-cp310-manylinux_2_17_x86_64.manylinux2014_x86_64.whl (9.3 MB)\n",
      "\u001B[2K     \u001B[90m━━━━━━━━━━━━━━━━━━━━━━━━━━━━━━━━━━━━━━━━\u001B[0m \u001B[32m9.3/9.3 MB\u001B[0m \u001B[31m78.9 MB/s\u001B[0m eta \u001B[36m0:00:00\u001B[0m\n",
      "\u001B[?25hRequirement already satisfied: astunparse>=1.6.0 in /usr/local/lib/python3.10/dist-packages (from tensorflow~=2.16.1->tensorflow_decision_forests) (1.6.3)\n",
      "Requirement already satisfied: flatbuffers>=23.5.26 in /usr/local/lib/python3.10/dist-packages (from tensorflow~=2.16.1->tensorflow_decision_forests) (24.3.25)\n",
      "Requirement already satisfied: gast!=0.5.0,!=0.5.1,!=0.5.2,>=0.2.1 in /usr/local/lib/python3.10/dist-packages (from tensorflow~=2.16.1->tensorflow_decision_forests) (0.5.4)\n",
      "Requirement already satisfied: google-pasta>=0.1.1 in /usr/local/lib/python3.10/dist-packages (from tensorflow~=2.16.1->tensorflow_decision_forests) (0.2.0)\n",
      "Collecting h5py>=3.10.0 (from tensorflow~=2.16.1->tensorflow_decision_forests)\n",
      "  Downloading h5py-3.11.0-cp310-cp310-manylinux_2_17_x86_64.manylinux2014_x86_64.whl (5.3 MB)\n",
      "\u001B[2K     \u001B[90m━━━━━━━━━━━━━━━━━━━━━━━━━━━━━━━━━━━━━━━━\u001B[0m \u001B[32m5.3/5.3 MB\u001B[0m \u001B[31m64.8 MB/s\u001B[0m eta \u001B[36m0:00:00\u001B[0m\n",
      "\u001B[?25hRequirement already satisfied: libclang>=13.0.0 in /usr/local/lib/python3.10/dist-packages (from tensorflow~=2.16.1->tensorflow_decision_forests) (18.1.1)\n",
      "Collecting ml-dtypes~=0.3.1 (from tensorflow~=2.16.1->tensorflow_decision_forests)\n",
      "  Downloading ml_dtypes-0.3.2-cp310-cp310-manylinux_2_17_x86_64.manylinux2014_x86_64.whl (2.2 MB)\n",
      "\u001B[2K     \u001B[90m━━━━━━━━━━━━━━━━━━━━━━━━━━━━━━━━━━━━━━━━\u001B[0m \u001B[32m2.2/2.2 MB\u001B[0m \u001B[31m64.9 MB/s\u001B[0m eta \u001B[36m0:00:00\u001B[0m\n",
      "\u001B[?25hRequirement already satisfied: opt-einsum>=2.3.2 in /usr/local/lib/python3.10/dist-packages (from tensorflow~=2.16.1->tensorflow_decision_forests) (3.3.0)\n",
      "Requirement already satisfied: packaging in /usr/local/lib/python3.10/dist-packages (from tensorflow~=2.16.1->tensorflow_decision_forests) (24.1)\n",
      "Requirement already satisfied: protobuf!=4.21.0,!=4.21.1,!=4.21.2,!=4.21.3,!=4.21.4,!=4.21.5,<5.0.0dev,>=3.20.3 in /usr/local/lib/python3.10/dist-packages (from tensorflow~=2.16.1->tensorflow_decision_forests) (3.20.3)\n",
      "Requirement already satisfied: requests<3,>=2.21.0 in /usr/local/lib/python3.10/dist-packages (from tensorflow~=2.16.1->tensorflow_decision_forests) (2.31.0)\n",
      "Requirement already satisfied: setuptools in /usr/local/lib/python3.10/dist-packages (from tensorflow~=2.16.1->tensorflow_decision_forests) (67.7.2)\n",
      "Requirement already satisfied: termcolor>=1.1.0 in /usr/local/lib/python3.10/dist-packages (from tensorflow~=2.16.1->tensorflow_decision_forests) (2.4.0)\n",
      "Requirement already satisfied: typing-extensions>=3.6.6 in /usr/local/lib/python3.10/dist-packages (from tensorflow~=2.16.1->tensorflow_decision_forests) (4.12.2)\n",
      "Requirement already satisfied: wrapt>=1.11.0 in /usr/local/lib/python3.10/dist-packages (from tensorflow~=2.16.1->tensorflow_decision_forests) (1.14.1)\n",
      "Requirement already satisfied: grpcio<2.0,>=1.24.3 in /usr/local/lib/python3.10/dist-packages (from tensorflow~=2.16.1->tensorflow_decision_forests) (1.64.1)\n",
      "Collecting tensorboard<2.17,>=2.16 (from tensorflow~=2.16.1->tensorflow_decision_forests)\n",
      "  Downloading tensorboard-2.16.2-py3-none-any.whl (5.5 MB)\n",
      "\u001B[2K     \u001B[90m━━━━━━━━━━━━━━━━━━━━━━━━━━━━━━━━━━━━━━━━\u001B[0m \u001B[32m5.5/5.5 MB\u001B[0m \u001B[31m19.5 MB/s\u001B[0m eta \u001B[36m0:00:00\u001B[0m\n",
      "\u001B[?25hCollecting keras>=3.0.0 (from tensorflow~=2.16.1->tensorflow_decision_forests)\n",
      "  Downloading keras-3.3.3-py3-none-any.whl (1.1 MB)\n",
      "\u001B[2K     \u001B[90m━━━━━━━━━━━━━━━━━━━━━━━━━━━━━━━━━━━━━━━━\u001B[0m \u001B[32m1.1/1.1 MB\u001B[0m \u001B[31m53.2 MB/s\u001B[0m eta \u001B[36m0:00:00\u001B[0m\n",
      "\u001B[?25hRequirement already satisfied: tensorflow-io-gcs-filesystem>=0.23.1 in /usr/local/lib/python3.10/dist-packages (from tensorflow~=2.16.1->tensorflow_decision_forests) (0.37.0)\n",
      "Requirement already satisfied: python-dateutil>=2.8.2 in /usr/local/lib/python3.10/dist-packages (from pandas->tensorflow_decision_forests) (2.8.2)\n",
      "Requirement already satisfied: pytz>=2020.1 in /usr/local/lib/python3.10/dist-packages (from pandas->tensorflow_decision_forests) (2023.4)\n",
      "Requirement already satisfied: tzdata>=2022.1 in /usr/local/lib/python3.10/dist-packages (from pandas->tensorflow_decision_forests) (2024.1)\n",
      "Requirement already satisfied: rich in /usr/local/lib/python3.10/dist-packages (from keras>=3.0.0->tensorflow~=2.16.1->tensorflow_decision_forests) (13.7.1)\n",
      "Collecting namex (from keras>=3.0.0->tensorflow~=2.16.1->tensorflow_decision_forests)\n",
      "  Downloading namex-0.0.8-py3-none-any.whl (5.8 kB)\n",
      "Collecting optree (from keras>=3.0.0->tensorflow~=2.16.1->tensorflow_decision_forests)\n",
      "  Downloading optree-0.11.0-cp310-cp310-manylinux_2_17_x86_64.manylinux2014_x86_64.whl (311 kB)\n",
      "\u001B[2K     \u001B[90m━━━━━━━━━━━━━━━━━━━━━━━━━━━━━━━━━━━━━━━━\u001B[0m \u001B[32m311.2/311.2 kB\u001B[0m \u001B[31m32.2 MB/s\u001B[0m eta \u001B[36m0:00:00\u001B[0m\n",
      "\u001B[?25hRequirement already satisfied: charset-normalizer<4,>=2 in /usr/local/lib/python3.10/dist-packages (from requests<3,>=2.21.0->tensorflow~=2.16.1->tensorflow_decision_forests) (3.3.2)\n",
      "Requirement already satisfied: idna<4,>=2.5 in /usr/local/lib/python3.10/dist-packages (from requests<3,>=2.21.0->tensorflow~=2.16.1->tensorflow_decision_forests) (3.7)\n",
      "Requirement already satisfied: urllib3<3,>=1.21.1 in /usr/local/lib/python3.10/dist-packages (from requests<3,>=2.21.0->tensorflow~=2.16.1->tensorflow_decision_forests) (2.0.7)\n",
      "Requirement already satisfied: certifi>=2017.4.17 in /usr/local/lib/python3.10/dist-packages (from requests<3,>=2.21.0->tensorflow~=2.16.1->tensorflow_decision_forests) (2024.6.2)\n",
      "Requirement already satisfied: markdown>=2.6.8 in /usr/local/lib/python3.10/dist-packages (from tensorboard<2.17,>=2.16->tensorflow~=2.16.1->tensorflow_decision_forests) (3.6)\n",
      "Requirement already satisfied: tensorboard-data-server<0.8.0,>=0.7.0 in /usr/local/lib/python3.10/dist-packages (from tensorboard<2.17,>=2.16->tensorflow~=2.16.1->tensorflow_decision_forests) (0.7.2)\n",
      "Requirement already satisfied: werkzeug>=1.0.1 in /usr/local/lib/python3.10/dist-packages (from tensorboard<2.17,>=2.16->tensorflow~=2.16.1->tensorflow_decision_forests) (3.0.3)\n",
      "Requirement already satisfied: MarkupSafe>=2.1.1 in /usr/local/lib/python3.10/dist-packages (from werkzeug>=1.0.1->tensorboard<2.17,>=2.16->tensorflow~=2.16.1->tensorflow_decision_forests) (2.1.5)\n",
      "Requirement already satisfied: markdown-it-py>=2.2.0 in /usr/local/lib/python3.10/dist-packages (from rich->keras>=3.0.0->tensorflow~=2.16.1->tensorflow_decision_forests) (3.0.0)\n",
      "Requirement already satisfied: pygments<3.0.0,>=2.13.0 in /usr/local/lib/python3.10/dist-packages (from rich->keras>=3.0.0->tensorflow~=2.16.1->tensorflow_decision_forests) (2.16.1)\n",
      "Requirement already satisfied: mdurl~=0.1 in /usr/local/lib/python3.10/dist-packages (from markdown-it-py>=2.2.0->rich->keras>=3.0.0->tensorflow~=2.16.1->tensorflow_decision_forests) (0.1.2)\n",
      "Installing collected packages: namex, ydf, wurlitzer, optree, ml-dtypes, h5py, tensorboard, keras, tensorflow, tf-keras, tensorflow_decision_forests\n",
      "  Attempting uninstall: ml-dtypes\n",
      "    Found existing installation: ml-dtypes 0.2.0\n",
      "    Uninstalling ml-dtypes-0.2.0:\n",
      "      Successfully uninstalled ml-dtypes-0.2.0\n",
      "  Attempting uninstall: h5py\n",
      "    Found existing installation: h5py 3.9.0\n",
      "    Uninstalling h5py-3.9.0:\n",
      "      Successfully uninstalled h5py-3.9.0\n",
      "  Attempting uninstall: tensorboard\n",
      "    Found existing installation: tensorboard 2.15.2\n",
      "    Uninstalling tensorboard-2.15.2:\n",
      "      Successfully uninstalled tensorboard-2.15.2\n",
      "  Attempting uninstall: keras\n",
      "    Found existing installation: keras 2.15.0\n",
      "    Uninstalling keras-2.15.0:\n",
      "      Successfully uninstalled keras-2.15.0\n",
      "  Attempting uninstall: tensorflow\n",
      "    Found existing installation: tensorflow 2.15.0\n",
      "    Uninstalling tensorflow-2.15.0:\n",
      "      Successfully uninstalled tensorflow-2.15.0\n",
      "  Attempting uninstall: tf-keras\n",
      "    Found existing installation: tf_keras 2.15.1\n",
      "    Uninstalling tf_keras-2.15.1:\n",
      "      Successfully uninstalled tf_keras-2.15.1\n",
      "Successfully installed h5py-3.11.0 keras-3.3.3 ml-dtypes-0.3.2 namex-0.0.8 optree-0.11.0 tensorboard-2.16.2 tensorflow-2.16.1 tensorflow_decision_forests-1.9.1 tf-keras-2.16.0 wurlitzer-3.1.1 ydf-0.5.0\n"
     ]
    },
    {
     "output_type": "display_data",
     "data": {
      "application/vnd.colab-display-data+json": {
       "pip_warning": {
        "packages": [
         "h5py",
         "keras",
         "ml_dtypes",
         "tensorboard",
         "tensorflow"
        ]
       },
       "id": "944273fdff8d4424b234968ef5124136"
      }
     },
     "metadata": {}
    }
   ]
  },
  {
   "cell_type": "code",
   "source": [
    "# libraries for data processing and machine learning\n",
    "import pandas as pd\n",
    "import numpy as np\n",
    "from sklearn.model_selection import train_test_split\n",
    "from sklearn.preprocessing import OneHotEncoder\n",
    "from sklearn.ensemble import RandomForestClassifier\n",
    "from sklearn.metrics import accuracy_score, precision_score, recall_score, roc_auc_score\n",
    "import tensorflow as tf\n",
    "import tensorflow_decision_forests as tfdf\n",
    "\n",
    "#import skl2onnx\n",
    "#from skl2onnx import convert_sklearn\n",
    "#from skl2onnx.common.data_types import FloatTensorType\n",
    "\n",
    "\n",
    "# dataset load\n",
    "dataset = pd.read_csv(\"dataset_web_spoof_output.csv\")\n"
   ],
   "metadata": {
    "id": "vBSlw__cn4CD",
    "executionInfo": {
     "status": "ok",
     "timestamp": 1719210108965,
     "user_tz": -180,
     "elapsed": 4797,
     "user": {
      "displayName": "Razvan Radutoiu",
      "userId": "02562257159567955024"
     }
    }
   },
   "execution_count": 92,
   "outputs": []
  },
  {
   "cell_type": "markdown",
   "source": [
    "**Pre-Process If Needed**"
   ],
   "metadata": {
    "id": "sGIu42haiHv8"
   }
  },
  {
   "cell_type": "code",
   "source": [
    "dataset.dropna()\n",
    "dataset.reset_index(drop=True)\n",
    "dataset['wlan.seq'] = dataset['wlan.seq'].astype(int)\n",
    "dataset.isnull().sum()\n",
    "\n"
   ],
   "metadata": {
    "colab": {
     "base_uri": "https://localhost:8080/"
    },
    "id": "kWqrriXLIIed",
    "executionInfo": {
     "status": "ok",
     "timestamp": 1719212673708,
     "user_tz": -180,
     "elapsed": 2837,
     "user": {
      "displayName": "Razvan Radutoiu",
      "userId": "02562257159567955024"
     }
    },
    "outputId": "79c0f7ac-4cbd-45b5-e3c0-07bcecfbaa85"
   },
   "execution_count": 109,
   "outputs": [
    {
     "output_type": "execute_result",
     "data": {
      "text/plain": [
       "Label                         0\n",
       "frame.encap_type              0\n",
       "frame.len                     0\n",
       "frame.number                  0\n",
       "frame.time_delta              0\n",
       "frame.time_delta_displayed    0\n",
       "frame.time_epoch              0\n",
       "frame.time_relative           0\n",
       "wlan.duration                 0\n",
       "wlan.fc.frag                  0\n",
       "wlan.fc.order                 0\n",
       "wlan.fc.moredata              0\n",
       "wlan.fc.protected             0\n",
       "wlan.fc.pwrmgt                0\n",
       "wlan.fc.type                  0\n",
       "wlan.fc.retry                 0\n",
       "wlan.fc.subtype               0\n",
       "wlan.seq                      0\n",
       "dtype: int64"
      ]
     },
     "metadata": {},
     "execution_count": 109
    }
   ]
  },
  {
   "cell_type": "code",
   "source": [
    "#dataset.head()\n",
    "\n",
    "#dataset['Label'] = dataset['Label'].replace({'0': 0, '1': 1, 'Kr00k': 1})\n",
    "dataset['Label'] = dataset['Label'].replace({'0': 0, '1': 1, 'Web_Spoofing': 1})\n",
    "\n",
    "dataset['Label'] = dataset['Label'].astype(int)\n",
    "\n",
    "print(dataset['Label'].unique())"
   ],
   "metadata": {
    "colab": {
     "base_uri": "https://localhost:8080/"
    },
    "id": "RKHH-2NVesBt",
    "executionInfo": {
     "status": "ok",
     "timestamp": 1719210208107,
     "user_tz": -180,
     "elapsed": 280,
     "user": {
      "displayName": "Razvan Radutoiu",
      "userId": "02562257159567955024"
     }
    },
    "outputId": "c6ef89db-b09d-4585-b3e4-a1493dfa0768"
   },
   "execution_count": 97,
   "outputs": [
    {
     "output_type": "stream",
     "name": "stdout",
     "text": [
      "[0 1]\n"
     ]
    }
   ]
  },
  {
   "cell_type": "code",
   "source": [
    "x = dataset.drop(columns=['Label'])\n"
   ],
   "metadata": {
    "id": "MwoOwG-8FoVE",
    "executionInfo": {
     "status": "ok",
     "timestamp": 1719210211024,
     "user_tz": -180,
     "elapsed": 413,
     "user": {
      "displayName": "Razvan Radutoiu",
      "userId": "02562257159567955024"
     }
    }
   },
   "execution_count": 98,
   "outputs": []
  },
  {
   "cell_type": "code",
   "source": [
    "y = dataset['Label']"
   ],
   "metadata": {
    "id": "KUrBBlb6FtuY",
    "executionInfo": {
     "status": "ok",
     "timestamp": 1719210211424,
     "user_tz": -180,
     "elapsed": 1,
     "user": {
      "displayName": "Razvan Radutoiu",
      "userId": "02562257159567955024"
     }
    }
   },
   "execution_count": 99,
   "outputs": []
  },
  {
   "cell_type": "code",
   "source": [
    "from sklearn.model_selection import train_test_split\n",
    "\n",
    "x_train, x_test, y_train, y_test = train_test_split(x, y, test_size=0.3)"
   ],
   "metadata": {
    "id": "o2glrAIeTVnB",
    "executionInfo": {
     "status": "ok",
     "timestamp": 1719210213790,
     "user_tz": -180,
     "elapsed": 1346,
     "user": {
      "displayName": "Razvan Radutoiu",
      "userId": "02562257159567955024"
     }
    }
   },
   "execution_count": 100,
   "outputs": []
  },
  {
   "cell_type": "code",
   "source": [
    "import tensorflow as tf\n",
    "\n",
    "\n",
    "model = tf.keras.models.Sequential()"
   ],
   "metadata": {
    "id": "Eu4-dbhjGH7I",
    "executionInfo": {
     "status": "ok",
     "timestamp": 1719210213791,
     "user_tz": -180,
     "elapsed": 10,
     "user": {
      "displayName": "Razvan Radutoiu",
      "userId": "02562257159567955024"
     }
    }
   },
   "execution_count": 101,
   "outputs": []
  },
  {
   "cell_type": "code",
   "source": [
    "model.add(tf.keras.layers.Dense(256, input_shape=(x_train.shape[1],), activation='relu'))\n",
    "#model.add(tf.keras.layers.Dense(256,  activation='sigmoid'))\n",
    "model.add(tf.keras.layers.Dense(1,  activation='sigmoid'))"
   ],
   "metadata": {
    "id": "dojCUnJNGMkD",
    "executionInfo": {
     "status": "ok",
     "timestamp": 1719210213791,
     "user_tz": -180,
     "elapsed": 9,
     "user": {
      "displayName": "Razvan Radutoiu",
      "userId": "02562257159567955024"
     }
    },
    "colab": {
     "base_uri": "https://localhost:8080/"
    },
    "outputId": "56eb6e30-3807-4ff6-f96d-db70afe84f23"
   },
   "execution_count": 102,
   "outputs": [
    {
     "output_type": "stream",
     "name": "stderr",
     "text": [
      "/usr/local/lib/python3.10/dist-packages/keras/src/layers/core/dense.py:87: UserWarning: Do not pass an `input_shape`/`input_dim` argument to a layer. When using Sequential models, prefer using an `Input(shape)` object as the first layer in the model instead.\n",
      "  super().__init__(activity_regularizer=activity_regularizer, **kwargs)\n"
     ]
    }
   ]
  },
  {
   "cell_type": "code",
   "source": [
    "model.compile(optimizer='adam',\n",
    "              loss='binary_crossentropy',\n",
    "              metrics=['accuracy',\n",
    "                       tf.keras.metrics.Precision(),\n",
    "                       tf.keras.metrics.Recall(),\n",
    "                       tf.keras.metrics.AUC()])\n"
   ],
   "metadata": {
    "id": "FBKqPkHGGaPx",
    "executionInfo": {
     "status": "ok",
     "timestamp": 1719210215458,
     "user_tz": -180,
     "elapsed": 310,
     "user": {
      "displayName": "Razvan Radutoiu",
      "userId": "02562257159567955024"
     }
    }
   },
   "execution_count": 103,
   "outputs": []
  },
  {
   "cell_type": "code",
   "source": [
    "dataset.isnull().sum()\n"
   ],
   "metadata": {
    "colab": {
     "base_uri": "https://localhost:8080/"
    },
    "id": "JbZmK68HdbhM",
    "executionInfo": {
     "status": "ok",
     "timestamp": 1719210216676,
     "user_tz": -180,
     "elapsed": 283,
     "user": {
      "displayName": "Razvan Radutoiu",
      "userId": "02562257159567955024"
     }
    },
    "outputId": "9c5fdf65-6e87-427f-a8f9-fa41a6bebe57"
   },
   "execution_count": 104,
   "outputs": [
    {
     "output_type": "execute_result",
     "data": {
      "text/plain": [
       "Label                         0\n",
       "frame.encap_type              0\n",
       "frame.len                     0\n",
       "frame.number                  0\n",
       "frame.time_delta              0\n",
       "frame.time_delta_displayed    0\n",
       "frame.time_epoch              0\n",
       "frame.time_relative           0\n",
       "wlan.duration                 0\n",
       "wlan.fc.frag                  0\n",
       "wlan.fc.order                 0\n",
       "wlan.fc.moredata              0\n",
       "wlan.fc.protected             0\n",
       "wlan.fc.pwrmgt                0\n",
       "wlan.fc.type                  0\n",
       "wlan.fc.retry                 0\n",
       "wlan.fc.subtype               0\n",
       "wlan.seq                      0\n",
       "dtype: int64"
      ]
     },
     "metadata": {},
     "execution_count": 104
    }
   ]
  },
  {
   "cell_type": "code",
   "source": [
    "dataset.describe(include='all')\n",
    "dataset.dtypes\n",
    "\n",
    "#dataset['Label'].value_counts()\n",
    "\n"
   ],
   "metadata": {
    "colab": {
     "base_uri": "https://localhost:8080/"
    },
    "id": "Xbo5Q4RXdbf9",
    "executionInfo": {
     "status": "ok",
     "timestamp": 1719210219222,
     "user_tz": -180,
     "elapsed": 1623,
     "user": {
      "displayName": "Razvan Radutoiu",
      "userId": "02562257159567955024"
     }
    },
    "outputId": "3cff06c7-e2c9-4f6f-b94a-741aace6ff1a"
   },
   "execution_count": 105,
   "outputs": [
    {
     "output_type": "execute_result",
     "data": {
      "text/plain": [
       "Label                           int64\n",
       "frame.encap_type                int64\n",
       "frame.len                       int64\n",
       "frame.number                    int64\n",
       "frame.time_delta              float64\n",
       "frame.time_delta_displayed    float64\n",
       "frame.time_epoch                int64\n",
       "frame.time_relative           float64\n",
       "wlan.duration                   int64\n",
       "wlan.fc.frag                    int64\n",
       "wlan.fc.order                   int64\n",
       "wlan.fc.moredata                int64\n",
       "wlan.fc.protected               int64\n",
       "wlan.fc.pwrmgt                  int64\n",
       "wlan.fc.type                    int64\n",
       "wlan.fc.retry                   int64\n",
       "wlan.fc.subtype                 int64\n",
       "wlan.seq                        int64\n",
       "dtype: object"
      ]
     },
     "metadata": {},
     "execution_count": 105
    }
   ]
  },
  {
   "cell_type": "code",
   "source": [
    "model.fit(x_train, y_train, epochs=10, validation_data=(x_test, y_test)) #DNN\n"
   ],
   "metadata": {
    "colab": {
     "base_uri": "https://localhost:8080/"
    },
    "id": "P8YsVY5bGlWd",
    "executionInfo": {
     "status": "ok",
     "timestamp": 1719212192314,
     "user_tz": -180,
     "elapsed": 1836345,
     "user": {
      "displayName": "Razvan Radutoiu",
      "userId": "02562257159567955024"
     }
    },
    "outputId": "0f365aa3-7d1f-414a-9e6b-7d1e592288b6"
   },
   "execution_count": 107,
   "outputs": [
    {
     "output_type": "stream",
     "name": "stdout",
     "text": [
      "Epoch 1/10\n",
      "\u001B[1m58375/58375\u001B[0m \u001B[32m━━━━━━━━━━━━━━━━━━━━\u001B[0m\u001B[37m\u001B[0m \u001B[1m165s\u001B[0m 3ms/step - accuracy: 0.7689 - auc_6: 0.5530 - loss: 189961.4844 - precision_6: 0.2423 - recall_6: 0.2424 - val_accuracy: 0.8487 - val_auc_6: 0.5000 - val_loss: 46908.7422 - val_precision_6: 0.0000e+00 - val_recall_6: 0.0000e+00\n",
      "Epoch 2/10\n",
      "\u001B[1m58375/58375\u001B[0m \u001B[32m━━━━━━━━━━━━━━━━━━━━\u001B[0m\u001B[37m\u001B[0m \u001B[1m159s\u001B[0m 3ms/step - accuracy: 0.7774 - auc_6: 0.5643 - loss: 25650.4297 - precision_6: 0.2472 - recall_6: 0.2267 - val_accuracy: 0.8487 - val_auc_6: 0.5000 - val_loss: 0.4250 - val_precision_6: 0.0000e+00 - val_recall_6: 0.0000e+00\n",
      "Epoch 3/10\n",
      "\u001B[1m58375/58375\u001B[0m \u001B[32m━━━━━━━━━━━━━━━━━━━━\u001B[0m\u001B[37m\u001B[0m \u001B[1m203s\u001B[0m 3ms/step - accuracy: 0.8476 - auc_6: 0.4998 - loss: 0.4274 - precision_6: 0.0000e+00 - recall_6: 0.0000e+00 - val_accuracy: 0.8487 - val_auc_6: 0.5000 - val_loss: 0.4251 - val_precision_6: 0.0000e+00 - val_recall_6: 0.0000e+00\n",
      "Epoch 4/10\n",
      "\u001B[1m58375/58375\u001B[0m \u001B[32m━━━━━━━━━━━━━━━━━━━━\u001B[0m\u001B[37m\u001B[0m \u001B[1m201s\u001B[0m 3ms/step - accuracy: 0.8480 - auc_6: 0.5006 - loss: 0.4322 - precision_6: 0.0000e+00 - recall_6: 0.0000e+00 - val_accuracy: 0.8487 - val_auc_6: 0.5000 - val_loss: 0.4251 - val_precision_6: 0.0000e+00 - val_recall_6: 0.0000e+00\n",
      "Epoch 5/10\n",
      "\u001B[1m58375/58375\u001B[0m \u001B[32m━━━━━━━━━━━━━━━━━━━━\u001B[0m\u001B[37m\u001B[0m \u001B[1m195s\u001B[0m 3ms/step - accuracy: 0.8484 - auc_6: 0.4997 - loss: 0.4255 - precision_6: 0.0000e+00 - recall_6: 0.0000e+00 - val_accuracy: 0.8487 - val_auc_6: 0.5000 - val_loss: 0.4251 - val_precision_6: 0.0000e+00 - val_recall_6: 0.0000e+00\n",
      "Epoch 6/10\n",
      "\u001B[1m58375/58375\u001B[0m \u001B[32m━━━━━━━━━━━━━━━━━━━━\u001B[0m\u001B[37m\u001B[0m \u001B[1m151s\u001B[0m 3ms/step - accuracy: 0.8481 - auc_6: 0.5003 - loss: 0.4260 - precision_6: 0.0000e+00 - recall_6: 0.0000e+00 - val_accuracy: 0.8487 - val_auc_6: 0.5000 - val_loss: 0.4251 - val_precision_6: 0.0000e+00 - val_recall_6: 0.0000e+00\n",
      "Epoch 7/10\n",
      "\u001B[1m58375/58375\u001B[0m \u001B[32m━━━━━━━━━━━━━━━━━━━━\u001B[0m\u001B[37m\u001B[0m \u001B[1m155s\u001B[0m 3ms/step - accuracy: 0.8484 - auc_6: 0.4997 - loss: 0.4255 - precision_6: 0.0000e+00 - recall_6: 0.0000e+00 - val_accuracy: 0.8487 - val_auc_6: 0.5000 - val_loss: 0.4251 - val_precision_6: 0.0000e+00 - val_recall_6: 0.0000e+00\n",
      "Epoch 8/10\n",
      "\u001B[1m58375/58375\u001B[0m \u001B[32m━━━━━━━━━━━━━━━━━━━━\u001B[0m\u001B[37m\u001B[0m \u001B[1m194s\u001B[0m 3ms/step - accuracy: 0.8479 - auc_6: 0.5000 - loss: 0.4263 - precision_6: 0.0000e+00 - recall_6: 0.0000e+00 - val_accuracy: 0.8487 - val_auc_6: 0.5000 - val_loss: 0.4251 - val_precision_6: 0.0000e+00 - val_recall_6: 0.0000e+00\n",
      "Epoch 9/10\n",
      "\u001B[1m58375/58375\u001B[0m \u001B[32m━━━━━━━━━━━━━━━━━━━━\u001B[0m\u001B[37m\u001B[0m \u001B[1m207s\u001B[0m 3ms/step - accuracy: 0.8477 - auc_6: 0.5003 - loss: 0.4267 - precision_6: 0.0000e+00 - recall_6: 0.0000e+00 - val_accuracy: 0.8487 - val_auc_6: 0.5000 - val_loss: 0.4251 - val_precision_6: 0.0000e+00 - val_recall_6: 0.0000e+00\n",
      "Epoch 10/10\n",
      "\u001B[1m58375/58375\u001B[0m \u001B[32m━━━━━━━━━━━━━━━━━━━━\u001B[0m\u001B[37m\u001B[0m \u001B[1m206s\u001B[0m 3ms/step - accuracy: 0.8477 - auc_6: 0.5003 - loss: 0.4267 - precision_6: 0.0000e+00 - recall_6: 0.0000e+00 - val_accuracy: 0.8487 - val_auc_6: 0.5000 - val_loss: 0.4251 - val_precision_6: 0.0000e+00 - val_recall_6: 0.0000e+00\n"
     ]
    },
    {
     "output_type": "execute_result",
     "data": {
      "text/plain": [
       "<keras.src.callbacks.history.History at 0x7e0e5663cf10>"
      ]
     },
     "metadata": {},
     "execution_count": 107
    }
   ]
  },
  {
   "cell_type": "code",
   "source": [
    "#from tensorflow.keras.utils import plot_model\n",
    "#plot_model(model, to_file='model_plot.png', show_shapes=True, show_layer_names=True)\n",
    "model.summary()"
   ],
   "metadata": {
    "colab": {
     "base_uri": "https://localhost:8080/",
     "height": 221
    },
    "id": "QQqNnVEnsGbY",
    "executionInfo": {
     "status": "ok",
     "timestamp": 1719212626981,
     "user_tz": -180,
     "elapsed": 315,
     "user": {
      "displayName": "Razvan Radutoiu",
      "userId": "02562257159567955024"
     }
    },
    "outputId": "607ec9e8-d86b-470a-c299-4c4232d694df"
   },
   "execution_count": 108,
   "outputs": [
    {
     "output_type": "display_data",
     "data": {
      "text/plain": [
       "\u001B[1mModel: \"sequential_3\"\u001B[0m\n"
      ],
      "text/html": [
       "<pre style=\"white-space:pre;overflow-x:auto;line-height:normal;font-family:Menlo,'DejaVu Sans Mono',consolas,'Courier New',monospace\"><span style=\"font-weight: bold\">Model: \"sequential_3\"</span>\n",
       "</pre>\n"
      ]
     },
     "metadata": {}
    },
    {
     "output_type": "display_data",
     "data": {
      "text/plain": [
       "┏━━━━━━━━━━━━━━━━━━━━━━━━━━━━━━━━━━━━━━┳━━━━━━━━━━━━━━━━━━━━━━━━━━━━━┳━━━━━━━━━━━━━━━━━┓\n",
       "┃\u001B[1m \u001B[0m\u001B[1mLayer (type)                        \u001B[0m\u001B[1m \u001B[0m┃\u001B[1m \u001B[0m\u001B[1mOutput Shape               \u001B[0m\u001B[1m \u001B[0m┃\u001B[1m \u001B[0m\u001B[1m        Param #\u001B[0m\u001B[1m \u001B[0m┃\n",
       "┡━━━━━━━━━━━━━━━━━━━━━━━━━━━━━━━━━━━━━━╇━━━━━━━━━━━━━━━━━━━━━━━━━━━━━╇━━━━━━━━━━━━━━━━━┩\n",
       "│ dense_15 (\u001B[38;5;33mDense\u001B[0m)                     │ (\u001B[38;5;45mNone\u001B[0m, \u001B[38;5;34m256\u001B[0m)                 │           \u001B[38;5;34m4,608\u001B[0m │\n",
       "├──────────────────────────────────────┼─────────────────────────────┼─────────────────┤\n",
       "│ dense_16 (\u001B[38;5;33mDense\u001B[0m)                     │ (\u001B[38;5;45mNone\u001B[0m, \u001B[38;5;34m1\u001B[0m)                   │             \u001B[38;5;34m257\u001B[0m │\n",
       "└──────────────────────────────────────┴─────────────────────────────┴─────────────────┘\n"
      ],
      "text/html": [
       "<pre style=\"white-space:pre;overflow-x:auto;line-height:normal;font-family:Menlo,'DejaVu Sans Mono',consolas,'Courier New',monospace\">┏━━━━━━━━━━━━━━━━━━━━━━━━━━━━━━━━━━━━━━┳━━━━━━━━━━━━━━━━━━━━━━━━━━━━━┳━━━━━━━━━━━━━━━━━┓\n",
       "┃<span style=\"font-weight: bold\"> Layer (type)                         </span>┃<span style=\"font-weight: bold\"> Output Shape                </span>┃<span style=\"font-weight: bold\">         Param # </span>┃\n",
       "┡━━━━━━━━━━━━━━━━━━━━━━━━━━━━━━━━━━━━━━╇━━━━━━━━━━━━━━━━━━━━━━━━━━━━━╇━━━━━━━━━━━━━━━━━┩\n",
       "│ dense_15 (<span style=\"color: #0087ff; text-decoration-color: #0087ff\">Dense</span>)                     │ (<span style=\"color: #00d7ff; text-decoration-color: #00d7ff\">None</span>, <span style=\"color: #00af00; text-decoration-color: #00af00\">256</span>)                 │           <span style=\"color: #00af00; text-decoration-color: #00af00\">4,608</span> │\n",
       "├──────────────────────────────────────┼─────────────────────────────┼─────────────────┤\n",
       "│ dense_16 (<span style=\"color: #0087ff; text-decoration-color: #0087ff\">Dense</span>)                     │ (<span style=\"color: #00d7ff; text-decoration-color: #00d7ff\">None</span>, <span style=\"color: #00af00; text-decoration-color: #00af00\">1</span>)                   │             <span style=\"color: #00af00; text-decoration-color: #00af00\">257</span> │\n",
       "└──────────────────────────────────────┴─────────────────────────────┴─────────────────┘\n",
       "</pre>\n"
      ]
     },
     "metadata": {}
    },
    {
     "output_type": "display_data",
     "data": {
      "text/plain": [
       "\u001B[1m Total params: \u001B[0m\u001B[38;5;34m14,597\u001B[0m (57.02 KB)\n"
      ],
      "text/html": [
       "<pre style=\"white-space:pre;overflow-x:auto;line-height:normal;font-family:Menlo,'DejaVu Sans Mono',consolas,'Courier New',monospace\"><span style=\"font-weight: bold\"> Total params: </span><span style=\"color: #00af00; text-decoration-color: #00af00\">14,597</span> (57.02 KB)\n",
       "</pre>\n"
      ]
     },
     "metadata": {}
    },
    {
     "output_type": "display_data",
     "data": {
      "text/plain": [
       "\u001B[1m Trainable params: \u001B[0m\u001B[38;5;34m4,865\u001B[0m (19.00 KB)\n"
      ],
      "text/html": [
       "<pre style=\"white-space:pre;overflow-x:auto;line-height:normal;font-family:Menlo,'DejaVu Sans Mono',consolas,'Courier New',monospace\"><span style=\"font-weight: bold\"> Trainable params: </span><span style=\"color: #00af00; text-decoration-color: #00af00\">4,865</span> (19.00 KB)\n",
       "</pre>\n"
      ]
     },
     "metadata": {}
    },
    {
     "output_type": "display_data",
     "data": {
      "text/plain": [
       "\u001B[1m Non-trainable params: \u001B[0m\u001B[38;5;34m0\u001B[0m (0.00 B)\n"
      ],
      "text/html": [
       "<pre style=\"white-space:pre;overflow-x:auto;line-height:normal;font-family:Menlo,'DejaVu Sans Mono',consolas,'Courier New',monospace\"><span style=\"font-weight: bold\"> Non-trainable params: </span><span style=\"color: #00af00; text-decoration-color: #00af00\">0</span> (0.00 B)\n",
       "</pre>\n"
      ]
     },
     "metadata": {}
    },
    {
     "output_type": "display_data",
     "data": {
      "text/plain": [
       "\u001B[1m Optimizer params: \u001B[0m\u001B[38;5;34m9,732\u001B[0m (38.02 KB)\n"
      ],
      "text/html": [
       "<pre style=\"white-space:pre;overflow-x:auto;line-height:normal;font-family:Menlo,'DejaVu Sans Mono',consolas,'Courier New',monospace\"><span style=\"font-weight: bold\"> Optimizer params: </span><span style=\"color: #00af00; text-decoration-color: #00af00\">9,732</span> (38.02 KB)\n",
       "</pre>\n"
      ]
     },
     "metadata": {}
    }
   ]
  },
  {
   "cell_type": "markdown",
   "source": [
    "# Evaluation on new labeled data"
   ],
   "metadata": {
    "id": "ndJmBp5KASsa"
   }
  },
  {
   "cell_type": "code",
   "source": [
    "# test data (from AWID3)\n",
    "new_data = pd.read_csv(\"deauth_wlan_frame.csv\")\n",
    "\n",
    "# Drop label\n",
    "x_new = new_data.drop(columns=['Label'])\n",
    "y_new = new_data['Label']\n",
    "\n",
    "# Evaluate the model on the new data\n",
    "loss, accuracy, precision, recall, auc = model.evaluate(x_new, y_new)\n",
    "\n",
    "print(\"Evaluation Metrics:\")\n",
    "print(\"Loss:\", loss)\n",
    "print(\"Accuracy:\", accuracy)\n",
    "print(\"Precision:\", precision)\n",
    "print(\"Recall:\", recall)\n",
    "print(\"AUC:\", auc)\n",
    "\n",
    "# Predict labels for the new data\n",
    "predicted_labels = model.predict(x_new)\n",
    "\n",
    "# Convert predicted probabilities to binary label, this will be implemented in the IDS\n",
    "predicted_labels_binary = (predicted_labels > 0.5).astype(int)\n",
    "\n",
    "new_data['Predicted_Label'] = predicted_labels_binary\n",
    "\n",
    "packets_labeled_1 = new_data[new_data['Label'] == 1]\n",
    "packets_labeled_1.to_csv(\"packets_labeled_as_1.csv\", index=False)"
   ],
   "metadata": {
    "id": "yu2NQRxgG-hd",
    "colab": {
     "base_uri": "https://localhost:8080/"
    },
    "executionInfo": {
     "status": "ok",
     "timestamp": 1716208806193,
     "user_tz": -180,
     "elapsed": 16316,
     "user": {
      "displayName": "Razvan Radutoiu",
      "userId": "02562257159567955024"
     }
    },
    "outputId": "c8b4352c-8c56-426a-a60a-93570fe7e2dd"
   },
   "execution_count": null,
   "outputs": [
    {
     "output_type": "stream",
     "name": "stdout",
     "text": [
      "1563/1563 [==============================] - 5s 3ms/step - loss: 0.2642 - accuracy: 0.9333 - precision_1: 0.0000e+00 - recall_1: 0.0000e+00 - auc_1: 0.5000\n",
      "Evaluation Metrics:\n",
      "Loss: 0.26424455642700195\n",
      "Accuracy: 0.9332799911499023\n",
      "Precision: 0.0\n",
      "Recall: 0.0\n",
      "AUC: 0.5\n",
      "1563/1563 [==============================] - 3s 2ms/step\n"
     ]
    }
   ]
  },
  {
   "cell_type": "code",
   "source": [
    "dataset.describe()"
   ],
   "metadata": {
    "colab": {
     "base_uri": "https://localhost:8080/",
     "height": 320
    },
    "id": "e6-vUqcOg3lL",
    "executionInfo": {
     "status": "ok",
     "timestamp": 1719156925160,
     "user_tz": -180,
     "elapsed": 2737,
     "user": {
      "displayName": "Razvan Radutoiu",
      "userId": "02562257159567955024"
     }
    },
    "outputId": "b51b6dcf-b598-4c37-bde6-dbc026ab5f12"
   },
   "execution_count": null,
   "outputs": [
    {
     "output_type": "execute_result",
     "data": {
      "text/plain": [
       "              Label  frame.encap_type     frame.len  frame.number  \\\n",
       "count  2.900420e+06         2900420.0  2.900420e+06  2.900420e+06   \n",
       "mean   6.612939e-02              23.0  4.425136e+02  1.450224e+06   \n",
       "std    2.485082e-01               0.0  6.346119e+02  8.372906e+05   \n",
       "min    0.000000e+00              23.0  7.000000e+01  1.000000e+00   \n",
       "25%    0.000000e+00              23.0  7.000000e+01  7.251098e+05   \n",
       "50%    0.000000e+00              23.0  8.800000e+01  1.450220e+06   \n",
       "75%    0.000000e+00              23.0  2.580000e+02  2.175331e+06   \n",
       "max    1.000000e+00              23.0  3.248000e+03  2.900458e+06   \n",
       "\n",
       "       frame.time_delta  frame.time_delta_displayed  frame.time_epoch  \\\n",
       "count      2.900420e+06                2.900420e+06      2.900420e+06   \n",
       "mean       2.076858e-04                2.076858e-04      1.609009e+09   \n",
       "std        2.289991e-03                2.289991e-03      1.207750e+02   \n",
       "min        0.000000e+00                0.000000e+00      1.609009e+09   \n",
       "25%        6.000000e-06                6.000000e-06      1.609009e+09   \n",
       "50%        5.900000e-05                5.900000e-05      1.609009e+09   \n",
       "75%        1.290000e-04                1.290000e-04      1.609009e+09   \n",
       "max        2.048170e-01                2.048170e-01      1.609010e+09   \n",
       "\n",
       "       frame.time_relative  wlan.duration  wlan.fc.frag  wlan.fc.order  \\\n",
       "count         2.900420e+06   2.900420e+06  2.900420e+06   2.900420e+06   \n",
       "mean          3.871253e+02   1.712853e+02  1.827322e-05   2.172099e-05   \n",
       "std           1.207735e+02   4.822934e+02  4.274680e-03   4.660529e-03   \n",
       "min           0.000000e+00   0.000000e+00  0.000000e+00   0.000000e+00   \n",
       "25%           2.715330e+02   4.800000e+01  0.000000e+00   0.000000e+00   \n",
       "50%           3.896722e+02   4.800000e+01  0.000000e+00   0.000000e+00   \n",
       "75%           4.914989e+02   1.560000e+02  0.000000e+00   0.000000e+00   \n",
       "max           6.023876e+02   3.000000e+04  1.000000e+00   1.000000e+00   \n",
       "\n",
       "       wlan.fc.moredata  wlan.fc.protected  wlan.fc.pwrmgt  wlan.fc.type  \\\n",
       "count      2.900420e+06       2.900420e+06    2.900420e+06  2.900420e+06   \n",
       "mean       1.126389e-03       3.834986e-01    7.419615e-04  1.195249e+00   \n",
       "std        3.354281e-02       4.862381e-01    2.722887e-02  6.500994e-01   \n",
       "min        0.000000e+00       0.000000e+00    0.000000e+00  0.000000e+00   \n",
       "25%        0.000000e+00       0.000000e+00    0.000000e+00  1.000000e+00   \n",
       "50%        0.000000e+00       0.000000e+00    0.000000e+00  1.000000e+00   \n",
       "75%        0.000000e+00       1.000000e+00    0.000000e+00  2.000000e+00   \n",
       "max        1.000000e+00       1.000000e+00    1.000000e+00  2.000000e+00   \n",
       "\n",
       "       wlan.fc.retry  wlan.fc.subtype  \n",
       "count   2.900420e+06     2.900420e+06  \n",
       "mean    2.976638e-02     1.016192e+01  \n",
       "std     1.699422e-01     2.064694e+00  \n",
       "min     0.000000e+00     0.000000e+00  \n",
       "25%     0.000000e+00     8.000000e+00  \n",
       "50%     0.000000e+00     1.000000e+01  \n",
       "75%     0.000000e+00     1.200000e+01  \n",
       "max     1.000000e+00     1.400000e+01  "
      ],
      "text/html": [
       "\n",
       "  <div id=\"df-c2a8ffca-728c-4dc5-9d7b-d834cf50b684\" class=\"colab-df-container\">\n",
       "    <div>\n",
       "<style scoped>\n",
       "    .dataframe tbody tr th:only-of-type {\n",
       "        vertical-align: middle;\n",
       "    }\n",
       "\n",
       "    .dataframe tbody tr th {\n",
       "        vertical-align: top;\n",
       "    }\n",
       "\n",
       "    .dataframe thead th {\n",
       "        text-align: right;\n",
       "    }\n",
       "</style>\n",
       "<table border=\"1\" class=\"dataframe\">\n",
       "  <thead>\n",
       "    <tr style=\"text-align: right;\">\n",
       "      <th></th>\n",
       "      <th>Label</th>\n",
       "      <th>frame.encap_type</th>\n",
       "      <th>frame.len</th>\n",
       "      <th>frame.number</th>\n",
       "      <th>frame.time_delta</th>\n",
       "      <th>frame.time_delta_displayed</th>\n",
       "      <th>frame.time_epoch</th>\n",
       "      <th>frame.time_relative</th>\n",
       "      <th>wlan.duration</th>\n",
       "      <th>wlan.fc.frag</th>\n",
       "      <th>wlan.fc.order</th>\n",
       "      <th>wlan.fc.moredata</th>\n",
       "      <th>wlan.fc.protected</th>\n",
       "      <th>wlan.fc.pwrmgt</th>\n",
       "      <th>wlan.fc.type</th>\n",
       "      <th>wlan.fc.retry</th>\n",
       "      <th>wlan.fc.subtype</th>\n",
       "    </tr>\n",
       "  </thead>\n",
       "  <tbody>\n",
       "    <tr>\n",
       "      <th>count</th>\n",
       "      <td>2.900420e+06</td>\n",
       "      <td>2900420.0</td>\n",
       "      <td>2.900420e+06</td>\n",
       "      <td>2.900420e+06</td>\n",
       "      <td>2.900420e+06</td>\n",
       "      <td>2.900420e+06</td>\n",
       "      <td>2.900420e+06</td>\n",
       "      <td>2.900420e+06</td>\n",
       "      <td>2.900420e+06</td>\n",
       "      <td>2.900420e+06</td>\n",
       "      <td>2.900420e+06</td>\n",
       "      <td>2.900420e+06</td>\n",
       "      <td>2.900420e+06</td>\n",
       "      <td>2.900420e+06</td>\n",
       "      <td>2.900420e+06</td>\n",
       "      <td>2.900420e+06</td>\n",
       "      <td>2.900420e+06</td>\n",
       "    </tr>\n",
       "    <tr>\n",
       "      <th>mean</th>\n",
       "      <td>6.612939e-02</td>\n",
       "      <td>23.0</td>\n",
       "      <td>4.425136e+02</td>\n",
       "      <td>1.450224e+06</td>\n",
       "      <td>2.076858e-04</td>\n",
       "      <td>2.076858e-04</td>\n",
       "      <td>1.609009e+09</td>\n",
       "      <td>3.871253e+02</td>\n",
       "      <td>1.712853e+02</td>\n",
       "      <td>1.827322e-05</td>\n",
       "      <td>2.172099e-05</td>\n",
       "      <td>1.126389e-03</td>\n",
       "      <td>3.834986e-01</td>\n",
       "      <td>7.419615e-04</td>\n",
       "      <td>1.195249e+00</td>\n",
       "      <td>2.976638e-02</td>\n",
       "      <td>1.016192e+01</td>\n",
       "    </tr>\n",
       "    <tr>\n",
       "      <th>std</th>\n",
       "      <td>2.485082e-01</td>\n",
       "      <td>0.0</td>\n",
       "      <td>6.346119e+02</td>\n",
       "      <td>8.372906e+05</td>\n",
       "      <td>2.289991e-03</td>\n",
       "      <td>2.289991e-03</td>\n",
       "      <td>1.207750e+02</td>\n",
       "      <td>1.207735e+02</td>\n",
       "      <td>4.822934e+02</td>\n",
       "      <td>4.274680e-03</td>\n",
       "      <td>4.660529e-03</td>\n",
       "      <td>3.354281e-02</td>\n",
       "      <td>4.862381e-01</td>\n",
       "      <td>2.722887e-02</td>\n",
       "      <td>6.500994e-01</td>\n",
       "      <td>1.699422e-01</td>\n",
       "      <td>2.064694e+00</td>\n",
       "    </tr>\n",
       "    <tr>\n",
       "      <th>min</th>\n",
       "      <td>0.000000e+00</td>\n",
       "      <td>23.0</td>\n",
       "      <td>7.000000e+01</td>\n",
       "      <td>1.000000e+00</td>\n",
       "      <td>0.000000e+00</td>\n",
       "      <td>0.000000e+00</td>\n",
       "      <td>1.609009e+09</td>\n",
       "      <td>0.000000e+00</td>\n",
       "      <td>0.000000e+00</td>\n",
       "      <td>0.000000e+00</td>\n",
       "      <td>0.000000e+00</td>\n",
       "      <td>0.000000e+00</td>\n",
       "      <td>0.000000e+00</td>\n",
       "      <td>0.000000e+00</td>\n",
       "      <td>0.000000e+00</td>\n",
       "      <td>0.000000e+00</td>\n",
       "      <td>0.000000e+00</td>\n",
       "    </tr>\n",
       "    <tr>\n",
       "      <th>25%</th>\n",
       "      <td>0.000000e+00</td>\n",
       "      <td>23.0</td>\n",
       "      <td>7.000000e+01</td>\n",
       "      <td>7.251098e+05</td>\n",
       "      <td>6.000000e-06</td>\n",
       "      <td>6.000000e-06</td>\n",
       "      <td>1.609009e+09</td>\n",
       "      <td>2.715330e+02</td>\n",
       "      <td>4.800000e+01</td>\n",
       "      <td>0.000000e+00</td>\n",
       "      <td>0.000000e+00</td>\n",
       "      <td>0.000000e+00</td>\n",
       "      <td>0.000000e+00</td>\n",
       "      <td>0.000000e+00</td>\n",
       "      <td>1.000000e+00</td>\n",
       "      <td>0.000000e+00</td>\n",
       "      <td>8.000000e+00</td>\n",
       "    </tr>\n",
       "    <tr>\n",
       "      <th>50%</th>\n",
       "      <td>0.000000e+00</td>\n",
       "      <td>23.0</td>\n",
       "      <td>8.800000e+01</td>\n",
       "      <td>1.450220e+06</td>\n",
       "      <td>5.900000e-05</td>\n",
       "      <td>5.900000e-05</td>\n",
       "      <td>1.609009e+09</td>\n",
       "      <td>3.896722e+02</td>\n",
       "      <td>4.800000e+01</td>\n",
       "      <td>0.000000e+00</td>\n",
       "      <td>0.000000e+00</td>\n",
       "      <td>0.000000e+00</td>\n",
       "      <td>0.000000e+00</td>\n",
       "      <td>0.000000e+00</td>\n",
       "      <td>1.000000e+00</td>\n",
       "      <td>0.000000e+00</td>\n",
       "      <td>1.000000e+01</td>\n",
       "    </tr>\n",
       "    <tr>\n",
       "      <th>75%</th>\n",
       "      <td>0.000000e+00</td>\n",
       "      <td>23.0</td>\n",
       "      <td>2.580000e+02</td>\n",
       "      <td>2.175331e+06</td>\n",
       "      <td>1.290000e-04</td>\n",
       "      <td>1.290000e-04</td>\n",
       "      <td>1.609009e+09</td>\n",
       "      <td>4.914989e+02</td>\n",
       "      <td>1.560000e+02</td>\n",
       "      <td>0.000000e+00</td>\n",
       "      <td>0.000000e+00</td>\n",
       "      <td>0.000000e+00</td>\n",
       "      <td>1.000000e+00</td>\n",
       "      <td>0.000000e+00</td>\n",
       "      <td>2.000000e+00</td>\n",
       "      <td>0.000000e+00</td>\n",
       "      <td>1.200000e+01</td>\n",
       "    </tr>\n",
       "    <tr>\n",
       "      <th>max</th>\n",
       "      <td>1.000000e+00</td>\n",
       "      <td>23.0</td>\n",
       "      <td>3.248000e+03</td>\n",
       "      <td>2.900458e+06</td>\n",
       "      <td>2.048170e-01</td>\n",
       "      <td>2.048170e-01</td>\n",
       "      <td>1.609010e+09</td>\n",
       "      <td>6.023876e+02</td>\n",
       "      <td>3.000000e+04</td>\n",
       "      <td>1.000000e+00</td>\n",
       "      <td>1.000000e+00</td>\n",
       "      <td>1.000000e+00</td>\n",
       "      <td>1.000000e+00</td>\n",
       "      <td>1.000000e+00</td>\n",
       "      <td>2.000000e+00</td>\n",
       "      <td>1.000000e+00</td>\n",
       "      <td>1.400000e+01</td>\n",
       "    </tr>\n",
       "  </tbody>\n",
       "</table>\n",
       "</div>\n",
       "    <div class=\"colab-df-buttons\">\n",
       "\n",
       "  <div class=\"colab-df-container\">\n",
       "    <button class=\"colab-df-convert\" onclick=\"convertToInteractive('df-c2a8ffca-728c-4dc5-9d7b-d834cf50b684')\"\n",
       "            title=\"Convert this dataframe to an interactive table.\"\n",
       "            style=\"display:none;\">\n",
       "\n",
       "  <svg xmlns=\"http://www.w3.org/2000/svg\" height=\"24px\" viewBox=\"0 -960 960 960\">\n",
       "    <path d=\"M120-120v-720h720v720H120Zm60-500h600v-160H180v160Zm220 220h160v-160H400v160Zm0 220h160v-160H400v160ZM180-400h160v-160H180v160Zm440 0h160v-160H620v160ZM180-180h160v-160H180v160Zm440 0h160v-160H620v160Z\"/>\n",
       "  </svg>\n",
       "    </button>\n",
       "\n",
       "  <style>\n",
       "    .colab-df-container {\n",
       "      display:flex;\n",
       "      gap: 12px;\n",
       "    }\n",
       "\n",
       "    .colab-df-convert {\n",
       "      background-color: #E8F0FE;\n",
       "      border: none;\n",
       "      border-radius: 50%;\n",
       "      cursor: pointer;\n",
       "      display: none;\n",
       "      fill: #1967D2;\n",
       "      height: 32px;\n",
       "      padding: 0 0 0 0;\n",
       "      width: 32px;\n",
       "    }\n",
       "\n",
       "    .colab-df-convert:hover {\n",
       "      background-color: #E2EBFA;\n",
       "      box-shadow: 0px 1px 2px rgba(60, 64, 67, 0.3), 0px 1px 3px 1px rgba(60, 64, 67, 0.15);\n",
       "      fill: #174EA6;\n",
       "    }\n",
       "\n",
       "    .colab-df-buttons div {\n",
       "      margin-bottom: 4px;\n",
       "    }\n",
       "\n",
       "    [theme=dark] .colab-df-convert {\n",
       "      background-color: #3B4455;\n",
       "      fill: #D2E3FC;\n",
       "    }\n",
       "\n",
       "    [theme=dark] .colab-df-convert:hover {\n",
       "      background-color: #434B5C;\n",
       "      box-shadow: 0px 1px 3px 1px rgba(0, 0, 0, 0.15);\n",
       "      filter: drop-shadow(0px 1px 2px rgba(0, 0, 0, 0.3));\n",
       "      fill: #FFFFFF;\n",
       "    }\n",
       "  </style>\n",
       "\n",
       "    <script>\n",
       "      const buttonEl =\n",
       "        document.querySelector('#df-c2a8ffca-728c-4dc5-9d7b-d834cf50b684 button.colab-df-convert');\n",
       "      buttonEl.style.display =\n",
       "        google.colab.kernel.accessAllowed ? 'block' : 'none';\n",
       "\n",
       "      async function convertToInteractive(key) {\n",
       "        const element = document.querySelector('#df-c2a8ffca-728c-4dc5-9d7b-d834cf50b684');\n",
       "        const dataTable =\n",
       "          await google.colab.kernel.invokeFunction('convertToInteractive',\n",
       "                                                    [key], {});\n",
       "        if (!dataTable) return;\n",
       "\n",
       "        const docLinkHtml = 'Like what you see? Visit the ' +\n",
       "          '<a target=\"_blank\" href=https://colab.research.google.com/notebooks/data_table.ipynb>data table notebook</a>'\n",
       "          + ' to learn more about interactive tables.';\n",
       "        element.innerHTML = '';\n",
       "        dataTable['output_type'] = 'display_data';\n",
       "        await google.colab.output.renderOutput(dataTable, element);\n",
       "        const docLink = document.createElement('div');\n",
       "        docLink.innerHTML = docLinkHtml;\n",
       "        element.appendChild(docLink);\n",
       "      }\n",
       "    </script>\n",
       "  </div>\n",
       "\n",
       "\n",
       "<div id=\"df-79364b87-17df-42ef-a1de-ea12991f8ae6\">\n",
       "  <button class=\"colab-df-quickchart\" onclick=\"quickchart('df-79364b87-17df-42ef-a1de-ea12991f8ae6')\"\n",
       "            title=\"Suggest charts\"\n",
       "            style=\"display:none;\">\n",
       "\n",
       "<svg xmlns=\"http://www.w3.org/2000/svg\" height=\"24px\"viewBox=\"0 0 24 24\"\n",
       "     width=\"24px\">\n",
       "    <g>\n",
       "        <path d=\"M19 3H5c-1.1 0-2 .9-2 2v14c0 1.1.9 2 2 2h14c1.1 0 2-.9 2-2V5c0-1.1-.9-2-2-2zM9 17H7v-7h2v7zm4 0h-2V7h2v10zm4 0h-2v-4h2v4z\"/>\n",
       "    </g>\n",
       "</svg>\n",
       "  </button>\n",
       "\n",
       "<style>\n",
       "  .colab-df-quickchart {\n",
       "      --bg-color: #E8F0FE;\n",
       "      --fill-color: #1967D2;\n",
       "      --hover-bg-color: #E2EBFA;\n",
       "      --hover-fill-color: #174EA6;\n",
       "      --disabled-fill-color: #AAA;\n",
       "      --disabled-bg-color: #DDD;\n",
       "  }\n",
       "\n",
       "  [theme=dark] .colab-df-quickchart {\n",
       "      --bg-color: #3B4455;\n",
       "      --fill-color: #D2E3FC;\n",
       "      --hover-bg-color: #434B5C;\n",
       "      --hover-fill-color: #FFFFFF;\n",
       "      --disabled-bg-color: #3B4455;\n",
       "      --disabled-fill-color: #666;\n",
       "  }\n",
       "\n",
       "  .colab-df-quickchart {\n",
       "    background-color: var(--bg-color);\n",
       "    border: none;\n",
       "    border-radius: 50%;\n",
       "    cursor: pointer;\n",
       "    display: none;\n",
       "    fill: var(--fill-color);\n",
       "    height: 32px;\n",
       "    padding: 0;\n",
       "    width: 32px;\n",
       "  }\n",
       "\n",
       "  .colab-df-quickchart:hover {\n",
       "    background-color: var(--hover-bg-color);\n",
       "    box-shadow: 0 1px 2px rgba(60, 64, 67, 0.3), 0 1px 3px 1px rgba(60, 64, 67, 0.15);\n",
       "    fill: var(--button-hover-fill-color);\n",
       "  }\n",
       "\n",
       "  .colab-df-quickchart-complete:disabled,\n",
       "  .colab-df-quickchart-complete:disabled:hover {\n",
       "    background-color: var(--disabled-bg-color);\n",
       "    fill: var(--disabled-fill-color);\n",
       "    box-shadow: none;\n",
       "  }\n",
       "\n",
       "  .colab-df-spinner {\n",
       "    border: 2px solid var(--fill-color);\n",
       "    border-color: transparent;\n",
       "    border-bottom-color: var(--fill-color);\n",
       "    animation:\n",
       "      spin 1s steps(1) infinite;\n",
       "  }\n",
       "\n",
       "  @keyframes spin {\n",
       "    0% {\n",
       "      border-color: transparent;\n",
       "      border-bottom-color: var(--fill-color);\n",
       "      border-left-color: var(--fill-color);\n",
       "    }\n",
       "    20% {\n",
       "      border-color: transparent;\n",
       "      border-left-color: var(--fill-color);\n",
       "      border-top-color: var(--fill-color);\n",
       "    }\n",
       "    30% {\n",
       "      border-color: transparent;\n",
       "      border-left-color: var(--fill-color);\n",
       "      border-top-color: var(--fill-color);\n",
       "      border-right-color: var(--fill-color);\n",
       "    }\n",
       "    40% {\n",
       "      border-color: transparent;\n",
       "      border-right-color: var(--fill-color);\n",
       "      border-top-color: var(--fill-color);\n",
       "    }\n",
       "    60% {\n",
       "      border-color: transparent;\n",
       "      border-right-color: var(--fill-color);\n",
       "    }\n",
       "    80% {\n",
       "      border-color: transparent;\n",
       "      border-right-color: var(--fill-color);\n",
       "      border-bottom-color: var(--fill-color);\n",
       "    }\n",
       "    90% {\n",
       "      border-color: transparent;\n",
       "      border-bottom-color: var(--fill-color);\n",
       "    }\n",
       "  }\n",
       "</style>\n",
       "\n",
       "  <script>\n",
       "    async function quickchart(key) {\n",
       "      const quickchartButtonEl =\n",
       "        document.querySelector('#' + key + ' button');\n",
       "      quickchartButtonEl.disabled = true;  // To prevent multiple clicks.\n",
       "      quickchartButtonEl.classList.add('colab-df-spinner');\n",
       "      try {\n",
       "        const charts = await google.colab.kernel.invokeFunction(\n",
       "            'suggestCharts', [key], {});\n",
       "      } catch (error) {\n",
       "        console.error('Error during call to suggestCharts:', error);\n",
       "      }\n",
       "      quickchartButtonEl.classList.remove('colab-df-spinner');\n",
       "      quickchartButtonEl.classList.add('colab-df-quickchart-complete');\n",
       "    }\n",
       "    (() => {\n",
       "      let quickchartButtonEl =\n",
       "        document.querySelector('#df-79364b87-17df-42ef-a1de-ea12991f8ae6 button');\n",
       "      quickchartButtonEl.style.display =\n",
       "        google.colab.kernel.accessAllowed ? 'block' : 'none';\n",
       "    })();\n",
       "  </script>\n",
       "</div>\n",
       "\n",
       "    </div>\n",
       "  </div>\n"
      ],
      "application/vnd.google.colaboratory.intrinsic+json": {
       "type": "dataframe",
       "summary": "{\n  \"name\": \"dataset\",\n  \"rows\": 8,\n  \"fields\": [\n    {\n      \"column\": \"Label\",\n      \"properties\": {\n        \"dtype\": \"number\",\n        \"std\": 1025453.2587453763,\n        \"min\": 0.0,\n        \"max\": 2900420.0,\n        \"num_unique_values\": 5,\n        \"samples\": [\n          0.06612938815757718,\n          1.0,\n          0.24850817586485655\n        ],\n        \"semantic_type\": \"\",\n        \"description\": \"\"\n      }\n    },\n    {\n      \"column\": \"frame.encap_type\",\n      \"properties\": {\n        \"dtype\": \"number\",\n        \"std\": 1025446.3551235697,\n        \"min\": 0.0,\n        \"max\": 2900420.0,\n        \"num_unique_values\": 3,\n        \"samples\": [\n          2900420.0,\n          23.0,\n          0.0\n        ],\n        \"semantic_type\": \"\",\n        \"description\": \"\"\n      }\n    },\n    {\n      \"column\": \"frame.len\",\n      \"properties\": {\n        \"dtype\": \"number\",\n        \"std\": 1025210.8787957813,\n        \"min\": 70.0,\n        \"max\": 2900420.0,\n        \"num_unique_values\": 7,\n        \"samples\": [\n          2900420.0,\n          442.5136035470725,\n          258.0\n        ],\n        \"semantic_type\": \"\",\n        \"description\": \"\"\n      }\n    },\n    {\n      \"column\": \"frame.number\",\n      \"properties\": {\n        \"dtype\": \"number\",\n        \"std\": 1045331.531848319,\n        \"min\": 1.0,\n        \"max\": 2900458.0,\n        \"num_unique_values\": 8,\n        \"samples\": [\n          1450224.3360375394,\n          1450220.5,\n          2900420.0\n        ],\n        \"semantic_type\": \"\",\n        \"description\": \"\"\n      }\n    },\n    {\n      \"column\": \"frame.time_delta\",\n      \"properties\": {\n        \"dtype\": \"number\",\n        \"std\": 1025453.3146637748,\n        \"min\": 0.0,\n        \"max\": 2900420.0,\n        \"num_unique_values\": 8,\n        \"samples\": [\n          0.00020768575275304974,\n          5.9e-05,\n          2900420.0\n        ],\n        \"semantic_type\": \"\",\n        \"description\": \"\"\n      }\n    },\n    {\n      \"column\": \"frame.time_delta_displayed\",\n      \"properties\": {\n        \"dtype\": \"number\",\n        \"std\": 1025453.3146637748,\n        \"min\": 0.0,\n        \"max\": 2900420.0,\n        \"num_unique_values\": 8,\n        \"samples\": [\n          0.00020768575275304974,\n          5.9e-05,\n          2900420.0\n        ],\n        \"semantic_type\": \"\",\n        \"description\": \"\"\n      }\n    },\n    {\n      \"column\": \"frame.time_epoch\",\n      \"properties\": {\n        \"dtype\": \"number\",\n        \"std\": 744155660.1008576,\n        \"min\": 120.77498889276153,\n        \"max\": 1609009601.0,\n        \"num_unique_values\": 8,\n        \"samples\": [\n          1609009385.9481955,\n          1609009388.4966745,\n          2900420.0\n        ],\n        \"semantic_type\": \"\",\n        \"description\": \"\"\n      }\n    },\n    {\n      \"column\": \"frame.time_relative\",\n      \"properties\": {\n        \"dtype\": \"number\",\n        \"std\": 1025339.0451751512,\n        \"min\": 0.0,\n        \"max\": 2900420.0,\n        \"num_unique_values\": 8,\n        \"samples\": [\n          387.12534033425663,\n          389.6722015,\n          2900420.0\n        ],\n        \"semantic_type\": \"\",\n        \"description\": \"\"\n      }\n    },\n    {\n      \"column\": \"wlan.duration\",\n      \"properties\": {\n        \"dtype\": \"number\",\n        \"std\": 1023945.6431736801,\n        \"min\": 0.0,\n        \"max\": 2900420.0,\n        \"num_unique_values\": 7,\n        \"samples\": [\n          2900420.0,\n          171.28532316009407,\n          156.0\n        ],\n        \"semantic_type\": \"\",\n        \"description\": \"\"\n      }\n    },\n    {\n      \"column\": \"wlan.fc.frag\",\n      \"properties\": {\n        \"dtype\": \"number\",\n        \"std\": 1025453.2744201486,\n        \"min\": 0.0,\n        \"max\": 2900420.0,\n        \"num_unique_values\": 5,\n        \"samples\": [\n          1.827321560325746e-05,\n          1.0,\n          0.004274679870228015\n        ],\n        \"semantic_type\": \"\",\n        \"description\": \"\"\n      }\n    },\n    {\n      \"column\": \"wlan.fc.order\",\n      \"properties\": {\n        \"dtype\": \"number\",\n        \"std\": 1025453.2744004861,\n        \"min\": 0.0,\n        \"max\": 2900420.0,\n        \"num_unique_values\": 5,\n        \"samples\": [\n          2.172099213217396e-05,\n          1.0,\n          0.004660528705997554\n        ],\n        \"semantic_type\": \"\",\n        \"description\": \"\"\n      }\n    },\n    {\n      \"column\": \"wlan.fc.moredata\",\n      \"properties\": {\n        \"dtype\": \"number\",\n        \"std\": 1025453.2728859158,\n        \"min\": 0.0,\n        \"max\": 2900420.0,\n        \"num_unique_values\": 5,\n        \"samples\": [\n          0.0011263885919970212,\n          1.0,\n          0.033542811877556596\n        ],\n        \"semantic_type\": \"\",\n        \"description\": \"\"\n      }\n    },\n    {\n      \"column\": \"wlan.fc.protected\",\n      \"properties\": {\n        \"dtype\": \"number\",\n        \"std\": 1025453.1802010351,\n        \"min\": 0.0,\n        \"max\": 2900420.0,\n        \"num_unique_values\": 5,\n        \"samples\": [\n          0.38349859675495274,\n          1.0,\n          0.4862381150803123\n        ],\n        \"semantic_type\": \"\",\n        \"description\": \"\"\n      }\n    },\n    {\n      \"column\": \"wlan.fc.pwrmgt\",\n      \"properties\": {\n        \"dtype\": \"number\",\n        \"std\": 1025453.2732242348,\n        \"min\": 0.0,\n        \"max\": 2900420.0,\n        \"num_unique_values\": 5,\n        \"samples\": [\n          0.0007419615090228312,\n          1.0,\n          0.027228868095534053\n        ],\n        \"semantic_type\": \"\",\n        \"description\": \"\"\n      }\n    },\n    {\n      \"column\": \"wlan.fc.type\",\n      \"properties\": {\n        \"dtype\": \"number\",\n        \"std\": 1025452.9288948271,\n        \"min\": 0.0,\n        \"max\": 2900420.0,\n        \"num_unique_values\": 6,\n        \"samples\": [\n          2900420.0,\n          1.1952489639431532,\n          2.0\n        ],\n        \"semantic_type\": \"\",\n        \"description\": \"\"\n      }\n    },\n    {\n      \"column\": \"wlan.fc.retry\",\n      \"properties\": {\n        \"dtype\": \"number\",\n        \"std\": 1025453.2645501669,\n        \"min\": 0.0,\n        \"max\": 2900420.0,\n        \"num_unique_values\": 5,\n        \"samples\": [\n          0.029766378662400617,\n          1.0,\n          0.16994219994170648\n        ],\n        \"semantic_type\": \"\",\n        \"description\": \"\"\n      }\n    },\n    {\n      \"column\": \"wlan.fc.subtype\",\n      \"properties\": {\n        \"dtype\": \"number\",\n        \"std\": 1025450.4852827912,\n        \"min\": 0.0,\n        \"max\": 2900420.0,\n        \"num_unique_values\": 8,\n        \"samples\": [\n          10.161921032126381,\n          10.0,\n          2900420.0\n        ],\n        \"semantic_type\": \"\",\n        \"description\": \"\"\n      }\n    }\n  ]\n}"
      }
     },
     "metadata": {},
     "execution_count": 40
    }
   ]
  },
  {
   "cell_type": "code",
   "source": [
    "dataset.columns"
   ],
   "metadata": {
    "colab": {
     "base_uri": "https://localhost:8080/"
    },
    "id": "UoldiP5DnDu0",
    "executionInfo": {
     "status": "ok",
     "timestamp": 1719138915134,
     "user_tz": -180,
     "elapsed": 16,
     "user": {
      "displayName": "Razvan Radutoiu",
      "userId": "02562257159567955024"
     }
    },
    "outputId": "fd3a1594-a4a0-4576-9fa3-d684a66625d0"
   },
   "execution_count": null,
   "outputs": [
    {
     "output_type": "execute_result",
     "data": {
      "text/plain": [
       "Index(['Label', 'frame.encap_type', 'frame.len', 'frame.number',\n",
       "       'frame.time_delta', 'frame.time_delta_displayed', 'frame.time_epoch',\n",
       "       'frame.time_relative', 'wlan.duration', 'wlan.fc.frag', 'wlan.fc.order',\n",
       "       'wlan.fc.moredata', 'wlan.fc.protected', 'wlan.fc.pwrmgt',\n",
       "       'wlan.fc.type', 'wlan.fc.retry', 'wlan.fc.subtype'],\n",
       "      dtype='object')"
      ]
     },
     "metadata": {},
     "execution_count": 63
    }
   ]
  },
  {
   "cell_type": "code",
   "source": [
    "result = pd.read_csv(\"deauth_wlan_frame.csv\")"
   ],
   "metadata": {
    "id": "LT2w4Ck7oJ20"
   },
   "execution_count": null,
   "outputs": []
  },
  {
   "cell_type": "code",
   "source": [
    "result[result['Label'] == 1]['wlan.fc.subtype'].value_counts()"
   ],
   "metadata": {
    "colab": {
     "base_uri": "https://localhost:8080/",
     "height": 141
    },
    "id": "DszXCltEoeMr",
    "executionInfo": {
     "status": "error",
     "timestamp": 1719138915135,
     "user_tz": -180,
     "elapsed": 5,
     "user": {
      "displayName": "Razvan Radutoiu",
      "userId": "02562257159567955024"
     }
    },
    "outputId": "7511d5df-cc95-4edb-fd71-7fb86f4e2b24"
   },
   "execution_count": null,
   "outputs": [
    {
     "output_type": "error",
     "ename": "NameError",
     "evalue": "name 'result' is not defined",
     "traceback": [
      "\u001B[0;31m---------------------------------------------------------------------------\u001B[0m",
      "\u001B[0;31mNameError\u001B[0m                                 Traceback (most recent call last)",
      "\u001B[0;32m<ipython-input-65-aa7d7ef7212a>\u001B[0m in \u001B[0;36m<cell line: 1>\u001B[0;34m()\u001B[0m\n\u001B[0;32m----> 1\u001B[0;31m \u001B[0mresult\u001B[0m\u001B[0;34m[\u001B[0m\u001B[0mresult\u001B[0m\u001B[0;34m[\u001B[0m\u001B[0;34m'Label'\u001B[0m\u001B[0;34m]\u001B[0m \u001B[0;34m==\u001B[0m \u001B[0;36m1\u001B[0m\u001B[0;34m]\u001B[0m\u001B[0;34m[\u001B[0m\u001B[0;34m'wlan.fc.subtype'\u001B[0m\u001B[0;34m]\u001B[0m\u001B[0;34m.\u001B[0m\u001B[0mvalue_counts\u001B[0m\u001B[0;34m(\u001B[0m\u001B[0;34m)\u001B[0m\u001B[0;34m\u001B[0m\u001B[0;34m\u001B[0m\u001B[0m\n\u001B[0m",
      "\u001B[0;31mNameError\u001B[0m: name 'result' is not defined"
     ]
    }
   ]
  },
  {
   "cell_type": "code",
   "source": [
    "result[(result['Label'] != 1)&(result['wlan.fc.subtype']== 12)].count() #nu coreleaza"
   ],
   "metadata": {
    "colab": {
     "base_uri": "https://localhost:8080/"
    },
    "id": "WA7AD7HMofrJ",
    "executionInfo": {
     "status": "ok",
     "timestamp": 1716208406742,
     "user_tz": -180,
     "elapsed": 2,
     "user": {
      "displayName": "Razvan Radutoiu",
      "userId": "02562257159567955024"
     }
    },
    "outputId": "896dfc02-517a-4a05-fbd8-df607c402436"
   },
   "execution_count": null,
   "outputs": [
    {
     "output_type": "execute_result",
     "data": {
      "text/plain": [
       "Label                         10020\n",
       "frame.encap_type              10020\n",
       "frame.len                     10020\n",
       "frame.number                  10020\n",
       "frame.time_delta              10020\n",
       "frame.time_delta_displayed    10020\n",
       "frame.time_epoch              10020\n",
       "frame.time_relative           10020\n",
       "wlan.duration                 10020\n",
       "wlan.fc.frag                  10020\n",
       "wlan.fc.order                 10020\n",
       "wlan.fc.moredata              10020\n",
       "wlan.fc.protected             10020\n",
       "wlan.fc.pwrmgt                10020\n",
       "wlan.fc.type                  10020\n",
       "wlan.fc.retry                 10020\n",
       "wlan.fc.subtype               10020\n",
       "dtype: int64"
      ]
     },
     "metadata": {},
     "execution_count": 46
    }
   ]
  },
  {
   "cell_type": "code",
   "source": [
    "result[(result['Label'] == 1)&(result['wlan.fc.subtype']== 12)].count() #nu coreleaza"
   ],
   "metadata": {
    "colab": {
     "base_uri": "https://localhost:8080/"
    },
    "id": "WWM_SITLpFGE",
    "executionInfo": {
     "status": "ok",
     "timestamp": 1716208409278,
     "user_tz": -180,
     "elapsed": 396,
     "user": {
      "displayName": "Razvan Radutoiu",
      "userId": "02562257159567955024"
     }
    },
    "outputId": "ec3113b9-2bc2-412c-fb50-d3af43e10e02"
   },
   "execution_count": null,
   "outputs": [
    {
     "output_type": "execute_result",
     "data": {
      "text/plain": [
       "Label                         3336\n",
       "frame.encap_type              3336\n",
       "frame.len                     3336\n",
       "frame.number                  3336\n",
       "frame.time_delta              3336\n",
       "frame.time_delta_displayed    3336\n",
       "frame.time_epoch              3336\n",
       "frame.time_relative           3336\n",
       "wlan.duration                 3336\n",
       "wlan.fc.frag                  3336\n",
       "wlan.fc.order                 3336\n",
       "wlan.fc.moredata              3336\n",
       "wlan.fc.protected             3336\n",
       "wlan.fc.pwrmgt                3336\n",
       "wlan.fc.type                  3336\n",
       "wlan.fc.retry                 3336\n",
       "wlan.fc.subtype               3336\n",
       "dtype: int64"
      ]
     },
     "metadata": {},
     "execution_count": 47
    }
   ]
  },
  {
   "cell_type": "markdown",
   "source": [
    "# Prediction for new unlabeled data"
   ],
   "metadata": {
    "id": "XgZWfZ74AbkZ"
   }
  },
  {
   "cell_type": "code",
   "source": [
    "real_data = pd.read_csv(\"real_data_deauth.csv\")"
   ],
   "metadata": {
    "id": "DXuOKtbnpb2L"
   },
   "execution_count": null,
   "outputs": []
  },
  {
   "cell_type": "code",
   "source": [
    "real_data.replace({False: 0, True: 1}, inplace=True) # convert bools to int"
   ],
   "metadata": {
    "id": "V5BizEcnzmyY"
   },
   "execution_count": null,
   "outputs": []
  },
  {
   "cell_type": "code",
   "source": [
    "real_data.dtypes\n"
   ],
   "metadata": {
    "colab": {
     "base_uri": "https://localhost:8080/"
    },
    "id": "XJkmHnixy73J",
    "executionInfo": {
     "status": "ok",
     "timestamp": 1716208884909,
     "user_tz": -180,
     "elapsed": 270,
     "user": {
      "displayName": "Razvan Radutoiu",
      "userId": "02562257159567955024"
     }
    },
    "outputId": "cbc0c579-76db-4103-a2f8-b16beb9cfce2"
   },
   "execution_count": null,
   "outputs": [
    {
     "output_type": "execute_result",
     "data": {
      "text/plain": [
       "frame.encap_type                int64\n",
       "frame.len                       int64\n",
       "frame.number                    int64\n",
       "frame.time_delta              float64\n",
       "frame.time_delta_displayed    float64\n",
       "frame.time_epoch              float64\n",
       "frame.time_relative           float64\n",
       "wlan.duration                   int64\n",
       "wlan.fc.frag                    int64\n",
       "wlan.fc.order                   int64\n",
       "wlan.fc.moredata                int64\n",
       "wlan.fc.protected               int64\n",
       "wlan.fc.pwrmgt                  int64\n",
       "wlan.fc.type                    int64\n",
       "wlan.fc.retry                   int64\n",
       "wlan.fc.subtype                 int64\n",
       "dtype: object"
      ]
     },
     "metadata": {},
     "execution_count": 69
    }
   ]
  },
  {
   "cell_type": "code",
   "source": [
    "dataset.dtypes"
   ],
   "metadata": {
    "colab": {
     "base_uri": "https://localhost:8080/"
    },
    "id": "N47xvobAzTn7",
    "executionInfo": {
     "status": "ok",
     "timestamp": 1716208885939,
     "user_tz": -180,
     "elapsed": 1,
     "user": {
      "displayName": "Razvan Radutoiu",
      "userId": "02562257159567955024"
     }
    },
    "outputId": "65ef2f68-c540-4a34-f73d-6fb5fe652d91"
   },
   "execution_count": null,
   "outputs": [
    {
     "output_type": "execute_result",
     "data": {
      "text/plain": [
       "Label                           int64\n",
       "frame.encap_type                int64\n",
       "frame.len                       int64\n",
       "frame.number                    int64\n",
       "frame.time_delta              float64\n",
       "frame.time_delta_displayed    float64\n",
       "frame.time_epoch              float64\n",
       "frame.time_relative           float64\n",
       "wlan.duration                   int64\n",
       "wlan.fc.frag                    int64\n",
       "wlan.fc.order                   int64\n",
       "wlan.fc.moredata                int64\n",
       "wlan.fc.protected               int64\n",
       "wlan.fc.pwrmgt                  int64\n",
       "wlan.fc.type                    int64\n",
       "wlan.fc.retry                   int64\n",
       "wlan.fc.subtype                 int64\n",
       "dtype: object"
      ]
     },
     "metadata": {},
     "execution_count": 70
    }
   ]
  },
  {
   "cell_type": "code",
   "source": [
    "real_results = model.predict(real_data)"
   ],
   "metadata": {
    "colab": {
     "base_uri": "https://localhost:8080/"
    },
    "id": "-vVqeISHy_L0",
    "executionInfo": {
     "status": "ok",
     "timestamp": 1716208888260,
     "user_tz": -180,
     "elapsed": 716,
     "user": {
      "displayName": "Razvan Radutoiu",
      "userId": "02562257159567955024"
     }
    },
    "outputId": "e89fee85-5aa9-41b8-d19d-c95871187887"
   },
   "execution_count": null,
   "outputs": [
    {
     "output_type": "stream",
     "name": "stdout",
     "text": [
      "187/187 [==============================] - 0s 2ms/step\n"
     ]
    }
   ]
  },
  {
   "cell_type": "code",
   "source": [
    "pd.DataFrame(real_results).describe()"
   ],
   "metadata": {
    "colab": {
     "base_uri": "https://localhost:8080/",
     "height": 300
    },
    "id": "3GyfEgRfzC8A",
    "executionInfo": {
     "status": "ok",
     "timestamp": 1716208889519,
     "user_tz": -180,
     "elapsed": 4,
     "user": {
      "displayName": "Razvan Radutoiu",
      "userId": "02562257159567955024"
     }
    },
    "outputId": "7ddae6a2-0569-4b77-c3b3-4a2383662593"
   },
   "execution_count": null,
   "outputs": [
    {
     "output_type": "execute_result",
     "data": {
      "text/plain": [
       "                 0\n",
       "count  5968.000000\n",
       "mean      0.027152\n",
       "std       0.000221\n",
       "min       0.027117\n",
       "25%       0.027117\n",
       "50%       0.027117\n",
       "75%       0.027117\n",
       "max       0.028587"
      ],
      "text/html": [
       "\n",
       "  <div id=\"df-6a5b5e99-09b3-4c3a-99a1-c4e591d70856\" class=\"colab-df-container\">\n",
       "    <div>\n",
       "<style scoped>\n",
       "    .dataframe tbody tr th:only-of-type {\n",
       "        vertical-align: middle;\n",
       "    }\n",
       "\n",
       "    .dataframe tbody tr th {\n",
       "        vertical-align: top;\n",
       "    }\n",
       "\n",
       "    .dataframe thead th {\n",
       "        text-align: right;\n",
       "    }\n",
       "</style>\n",
       "<table border=\"1\" class=\"dataframe\">\n",
       "  <thead>\n",
       "    <tr style=\"text-align: right;\">\n",
       "      <th></th>\n",
       "      <th>0</th>\n",
       "    </tr>\n",
       "  </thead>\n",
       "  <tbody>\n",
       "    <tr>\n",
       "      <th>count</th>\n",
       "      <td>5968.000000</td>\n",
       "    </tr>\n",
       "    <tr>\n",
       "      <th>mean</th>\n",
       "      <td>0.027152</td>\n",
       "    </tr>\n",
       "    <tr>\n",
       "      <th>std</th>\n",
       "      <td>0.000221</td>\n",
       "    </tr>\n",
       "    <tr>\n",
       "      <th>min</th>\n",
       "      <td>0.027117</td>\n",
       "    </tr>\n",
       "    <tr>\n",
       "      <th>25%</th>\n",
       "      <td>0.027117</td>\n",
       "    </tr>\n",
       "    <tr>\n",
       "      <th>50%</th>\n",
       "      <td>0.027117</td>\n",
       "    </tr>\n",
       "    <tr>\n",
       "      <th>75%</th>\n",
       "      <td>0.027117</td>\n",
       "    </tr>\n",
       "    <tr>\n",
       "      <th>max</th>\n",
       "      <td>0.028587</td>\n",
       "    </tr>\n",
       "  </tbody>\n",
       "</table>\n",
       "</div>\n",
       "    <div class=\"colab-df-buttons\">\n",
       "\n",
       "  <div class=\"colab-df-container\">\n",
       "    <button class=\"colab-df-convert\" onclick=\"convertToInteractive('df-6a5b5e99-09b3-4c3a-99a1-c4e591d70856')\"\n",
       "            title=\"Convert this dataframe to an interactive table.\"\n",
       "            style=\"display:none;\">\n",
       "\n",
       "  <svg xmlns=\"http://www.w3.org/2000/svg\" height=\"24px\" viewBox=\"0 -960 960 960\">\n",
       "    <path d=\"M120-120v-720h720v720H120Zm60-500h600v-160H180v160Zm220 220h160v-160H400v160Zm0 220h160v-160H400v160ZM180-400h160v-160H180v160Zm440 0h160v-160H620v160ZM180-180h160v-160H180v160Zm440 0h160v-160H620v160Z\"/>\n",
       "  </svg>\n",
       "    </button>\n",
       "\n",
       "  <style>\n",
       "    .colab-df-container {\n",
       "      display:flex;\n",
       "      gap: 12px;\n",
       "    }\n",
       "\n",
       "    .colab-df-convert {\n",
       "      background-color: #E8F0FE;\n",
       "      border: none;\n",
       "      border-radius: 50%;\n",
       "      cursor: pointer;\n",
       "      display: none;\n",
       "      fill: #1967D2;\n",
       "      height: 32px;\n",
       "      padding: 0 0 0 0;\n",
       "      width: 32px;\n",
       "    }\n",
       "\n",
       "    .colab-df-convert:hover {\n",
       "      background-color: #E2EBFA;\n",
       "      box-shadow: 0px 1px 2px rgba(60, 64, 67, 0.3), 0px 1px 3px 1px rgba(60, 64, 67, 0.15);\n",
       "      fill: #174EA6;\n",
       "    }\n",
       "\n",
       "    .colab-df-buttons div {\n",
       "      margin-bottom: 4px;\n",
       "    }\n",
       "\n",
       "    [theme=dark] .colab-df-convert {\n",
       "      background-color: #3B4455;\n",
       "      fill: #D2E3FC;\n",
       "    }\n",
       "\n",
       "    [theme=dark] .colab-df-convert:hover {\n",
       "      background-color: #434B5C;\n",
       "      box-shadow: 0px 1px 3px 1px rgba(0, 0, 0, 0.15);\n",
       "      filter: drop-shadow(0px 1px 2px rgba(0, 0, 0, 0.3));\n",
       "      fill: #FFFFFF;\n",
       "    }\n",
       "  </style>\n",
       "\n",
       "    <script>\n",
       "      const buttonEl =\n",
       "        document.querySelector('#df-6a5b5e99-09b3-4c3a-99a1-c4e591d70856 button.colab-df-convert');\n",
       "      buttonEl.style.display =\n",
       "        google.colab.kernel.accessAllowed ? 'block' : 'none';\n",
       "\n",
       "      async function convertToInteractive(key) {\n",
       "        const element = document.querySelector('#df-6a5b5e99-09b3-4c3a-99a1-c4e591d70856');\n",
       "        const dataTable =\n",
       "          await google.colab.kernel.invokeFunction('convertToInteractive',\n",
       "                                                    [key], {});\n",
       "        if (!dataTable) return;\n",
       "\n",
       "        const docLinkHtml = 'Like what you see? Visit the ' +\n",
       "          '<a target=\"_blank\" href=https://colab.research.google.com/notebooks/data_table.ipynb>data table notebook</a>'\n",
       "          + ' to learn more about interactive tables.';\n",
       "        element.innerHTML = '';\n",
       "        dataTable['output_type'] = 'display_data';\n",
       "        await google.colab.output.renderOutput(dataTable, element);\n",
       "        const docLink = document.createElement('div');\n",
       "        docLink.innerHTML = docLinkHtml;\n",
       "        element.appendChild(docLink);\n",
       "      }\n",
       "    </script>\n",
       "  </div>\n",
       "\n",
       "\n",
       "<div id=\"df-c61e660f-0af5-4a3e-bf44-460d445f3f9c\">\n",
       "  <button class=\"colab-df-quickchart\" onclick=\"quickchart('df-c61e660f-0af5-4a3e-bf44-460d445f3f9c')\"\n",
       "            title=\"Suggest charts\"\n",
       "            style=\"display:none;\">\n",
       "\n",
       "<svg xmlns=\"http://www.w3.org/2000/svg\" height=\"24px\"viewBox=\"0 0 24 24\"\n",
       "     width=\"24px\">\n",
       "    <g>\n",
       "        <path d=\"M19 3H5c-1.1 0-2 .9-2 2v14c0 1.1.9 2 2 2h14c1.1 0 2-.9 2-2V5c0-1.1-.9-2-2-2zM9 17H7v-7h2v7zm4 0h-2V7h2v10zm4 0h-2v-4h2v4z\"/>\n",
       "    </g>\n",
       "</svg>\n",
       "  </button>\n",
       "\n",
       "<style>\n",
       "  .colab-df-quickchart {\n",
       "      --bg-color: #E8F0FE;\n",
       "      --fill-color: #1967D2;\n",
       "      --hover-bg-color: #E2EBFA;\n",
       "      --hover-fill-color: #174EA6;\n",
       "      --disabled-fill-color: #AAA;\n",
       "      --disabled-bg-color: #DDD;\n",
       "  }\n",
       "\n",
       "  [theme=dark] .colab-df-quickchart {\n",
       "      --bg-color: #3B4455;\n",
       "      --fill-color: #D2E3FC;\n",
       "      --hover-bg-color: #434B5C;\n",
       "      --hover-fill-color: #FFFFFF;\n",
       "      --disabled-bg-color: #3B4455;\n",
       "      --disabled-fill-color: #666;\n",
       "  }\n",
       "\n",
       "  .colab-df-quickchart {\n",
       "    background-color: var(--bg-color);\n",
       "    border: none;\n",
       "    border-radius: 50%;\n",
       "    cursor: pointer;\n",
       "    display: none;\n",
       "    fill: var(--fill-color);\n",
       "    height: 32px;\n",
       "    padding: 0;\n",
       "    width: 32px;\n",
       "  }\n",
       "\n",
       "  .colab-df-quickchart:hover {\n",
       "    background-color: var(--hover-bg-color);\n",
       "    box-shadow: 0 1px 2px rgba(60, 64, 67, 0.3), 0 1px 3px 1px rgba(60, 64, 67, 0.15);\n",
       "    fill: var(--button-hover-fill-color);\n",
       "  }\n",
       "\n",
       "  .colab-df-quickchart-complete:disabled,\n",
       "  .colab-df-quickchart-complete:disabled:hover {\n",
       "    background-color: var(--disabled-bg-color);\n",
       "    fill: var(--disabled-fill-color);\n",
       "    box-shadow: none;\n",
       "  }\n",
       "\n",
       "  .colab-df-spinner {\n",
       "    border: 2px solid var(--fill-color);\n",
       "    border-color: transparent;\n",
       "    border-bottom-color: var(--fill-color);\n",
       "    animation:\n",
       "      spin 1s steps(1) infinite;\n",
       "  }\n",
       "\n",
       "  @keyframes spin {\n",
       "    0% {\n",
       "      border-color: transparent;\n",
       "      border-bottom-color: var(--fill-color);\n",
       "      border-left-color: var(--fill-color);\n",
       "    }\n",
       "    20% {\n",
       "      border-color: transparent;\n",
       "      border-left-color: var(--fill-color);\n",
       "      border-top-color: var(--fill-color);\n",
       "    }\n",
       "    30% {\n",
       "      border-color: transparent;\n",
       "      border-left-color: var(--fill-color);\n",
       "      border-top-color: var(--fill-color);\n",
       "      border-right-color: var(--fill-color);\n",
       "    }\n",
       "    40% {\n",
       "      border-color: transparent;\n",
       "      border-right-color: var(--fill-color);\n",
       "      border-top-color: var(--fill-color);\n",
       "    }\n",
       "    60% {\n",
       "      border-color: transparent;\n",
       "      border-right-color: var(--fill-color);\n",
       "    }\n",
       "    80% {\n",
       "      border-color: transparent;\n",
       "      border-right-color: var(--fill-color);\n",
       "      border-bottom-color: var(--fill-color);\n",
       "    }\n",
       "    90% {\n",
       "      border-color: transparent;\n",
       "      border-bottom-color: var(--fill-color);\n",
       "    }\n",
       "  }\n",
       "</style>\n",
       "\n",
       "  <script>\n",
       "    async function quickchart(key) {\n",
       "      const quickchartButtonEl =\n",
       "        document.querySelector('#' + key + ' button');\n",
       "      quickchartButtonEl.disabled = true;  // To prevent multiple clicks.\n",
       "      quickchartButtonEl.classList.add('colab-df-spinner');\n",
       "      try {\n",
       "        const charts = await google.colab.kernel.invokeFunction(\n",
       "            'suggestCharts', [key], {});\n",
       "      } catch (error) {\n",
       "        console.error('Error during call to suggestCharts:', error);\n",
       "      }\n",
       "      quickchartButtonEl.classList.remove('colab-df-spinner');\n",
       "      quickchartButtonEl.classList.add('colab-df-quickchart-complete');\n",
       "    }\n",
       "    (() => {\n",
       "      let quickchartButtonEl =\n",
       "        document.querySelector('#df-c61e660f-0af5-4a3e-bf44-460d445f3f9c button');\n",
       "      quickchartButtonEl.style.display =\n",
       "        google.colab.kernel.accessAllowed ? 'block' : 'none';\n",
       "    })();\n",
       "  </script>\n",
       "</div>\n",
       "    </div>\n",
       "  </div>\n"
      ],
      "application/vnd.google.colaboratory.intrinsic+json": {
       "type": "dataframe",
       "summary": "{\n  \"name\": \"pd\",\n  \"rows\": 8,\n  \"fields\": [\n    {\n      \"column\": 0,\n      \"properties\": {\n        \"dtype\": \"number\",\n        \"std\": 2109.998330300169,\n        \"min\": 0.00022087448451202363,\n        \"max\": 5968.0,\n        \"num_unique_values\": 6,\n        \"samples\": [\n          5968.0,\n          0.027151836082339287,\n          0.02858724072575569\n        ],\n        \"semantic_type\": \"\",\n        \"description\": \"\"\n      }\n    }\n  ]\n}"
      }
     },
     "metadata": {},
     "execution_count": 72
    }
   ]
  },
  {
   "cell_type": "code",
   "source": [
    "real_data['predicted label'] = real_results"
   ],
   "metadata": {
    "id": "Dv7-hBfjz7SD"
   },
   "execution_count": null,
   "outputs": []
  },
  {
   "cell_type": "code",
   "source": [
    "pd.DataFrame(real_results).describe()"
   ],
   "metadata": {
    "colab": {
     "base_uri": "https://localhost:8080/",
     "height": 300
    },
    "id": "6odlM4Fa0YNo",
    "executionInfo": {
     "status": "ok",
     "timestamp": 1716208897134,
     "user_tz": -180,
     "elapsed": 3,
     "user": {
      "displayName": "Razvan Radutoiu",
      "userId": "02562257159567955024"
     }
    },
    "outputId": "1c8f4295-acae-4423-a619-fc6eada1e4cf"
   },
   "execution_count": null,
   "outputs": [
    {
     "output_type": "execute_result",
     "data": {
      "text/plain": [
       "                 0\n",
       "count  5968.000000\n",
       "mean      0.027152\n",
       "std       0.000221\n",
       "min       0.027117\n",
       "25%       0.027117\n",
       "50%       0.027117\n",
       "75%       0.027117\n",
       "max       0.028587"
      ],
      "text/html": [
       "\n",
       "  <div id=\"df-9231c4d5-4aad-4243-b378-f3fe17009e14\" class=\"colab-df-container\">\n",
       "    <div>\n",
       "<style scoped>\n",
       "    .dataframe tbody tr th:only-of-type {\n",
       "        vertical-align: middle;\n",
       "    }\n",
       "\n",
       "    .dataframe tbody tr th {\n",
       "        vertical-align: top;\n",
       "    }\n",
       "\n",
       "    .dataframe thead th {\n",
       "        text-align: right;\n",
       "    }\n",
       "</style>\n",
       "<table border=\"1\" class=\"dataframe\">\n",
       "  <thead>\n",
       "    <tr style=\"text-align: right;\">\n",
       "      <th></th>\n",
       "      <th>0</th>\n",
       "    </tr>\n",
       "  </thead>\n",
       "  <tbody>\n",
       "    <tr>\n",
       "      <th>count</th>\n",
       "      <td>5968.000000</td>\n",
       "    </tr>\n",
       "    <tr>\n",
       "      <th>mean</th>\n",
       "      <td>0.027152</td>\n",
       "    </tr>\n",
       "    <tr>\n",
       "      <th>std</th>\n",
       "      <td>0.000221</td>\n",
       "    </tr>\n",
       "    <tr>\n",
       "      <th>min</th>\n",
       "      <td>0.027117</td>\n",
       "    </tr>\n",
       "    <tr>\n",
       "      <th>25%</th>\n",
       "      <td>0.027117</td>\n",
       "    </tr>\n",
       "    <tr>\n",
       "      <th>50%</th>\n",
       "      <td>0.027117</td>\n",
       "    </tr>\n",
       "    <tr>\n",
       "      <th>75%</th>\n",
       "      <td>0.027117</td>\n",
       "    </tr>\n",
       "    <tr>\n",
       "      <th>max</th>\n",
       "      <td>0.028587</td>\n",
       "    </tr>\n",
       "  </tbody>\n",
       "</table>\n",
       "</div>\n",
       "    <div class=\"colab-df-buttons\">\n",
       "\n",
       "  <div class=\"colab-df-container\">\n",
       "    <button class=\"colab-df-convert\" onclick=\"convertToInteractive('df-9231c4d5-4aad-4243-b378-f3fe17009e14')\"\n",
       "            title=\"Convert this dataframe to an interactive table.\"\n",
       "            style=\"display:none;\">\n",
       "\n",
       "  <svg xmlns=\"http://www.w3.org/2000/svg\" height=\"24px\" viewBox=\"0 -960 960 960\">\n",
       "    <path d=\"M120-120v-720h720v720H120Zm60-500h600v-160H180v160Zm220 220h160v-160H400v160Zm0 220h160v-160H400v160ZM180-400h160v-160H180v160Zm440 0h160v-160H620v160ZM180-180h160v-160H180v160Zm440 0h160v-160H620v160Z\"/>\n",
       "  </svg>\n",
       "    </button>\n",
       "\n",
       "  <style>\n",
       "    .colab-df-container {\n",
       "      display:flex;\n",
       "      gap: 12px;\n",
       "    }\n",
       "\n",
       "    .colab-df-convert {\n",
       "      background-color: #E8F0FE;\n",
       "      border: none;\n",
       "      border-radius: 50%;\n",
       "      cursor: pointer;\n",
       "      display: none;\n",
       "      fill: #1967D2;\n",
       "      height: 32px;\n",
       "      padding: 0 0 0 0;\n",
       "      width: 32px;\n",
       "    }\n",
       "\n",
       "    .colab-df-convert:hover {\n",
       "      background-color: #E2EBFA;\n",
       "      box-shadow: 0px 1px 2px rgba(60, 64, 67, 0.3), 0px 1px 3px 1px rgba(60, 64, 67, 0.15);\n",
       "      fill: #174EA6;\n",
       "    }\n",
       "\n",
       "    .colab-df-buttons div {\n",
       "      margin-bottom: 4px;\n",
       "    }\n",
       "\n",
       "    [theme=dark] .colab-df-convert {\n",
       "      background-color: #3B4455;\n",
       "      fill: #D2E3FC;\n",
       "    }\n",
       "\n",
       "    [theme=dark] .colab-df-convert:hover {\n",
       "      background-color: #434B5C;\n",
       "      box-shadow: 0px 1px 3px 1px rgba(0, 0, 0, 0.15);\n",
       "      filter: drop-shadow(0px 1px 2px rgba(0, 0, 0, 0.3));\n",
       "      fill: #FFFFFF;\n",
       "    }\n",
       "  </style>\n",
       "\n",
       "    <script>\n",
       "      const buttonEl =\n",
       "        document.querySelector('#df-9231c4d5-4aad-4243-b378-f3fe17009e14 button.colab-df-convert');\n",
       "      buttonEl.style.display =\n",
       "        google.colab.kernel.accessAllowed ? 'block' : 'none';\n",
       "\n",
       "      async function convertToInteractive(key) {\n",
       "        const element = document.querySelector('#df-9231c4d5-4aad-4243-b378-f3fe17009e14');\n",
       "        const dataTable =\n",
       "          await google.colab.kernel.invokeFunction('convertToInteractive',\n",
       "                                                    [key], {});\n",
       "        if (!dataTable) return;\n",
       "\n",
       "        const docLinkHtml = 'Like what you see? Visit the ' +\n",
       "          '<a target=\"_blank\" href=https://colab.research.google.com/notebooks/data_table.ipynb>data table notebook</a>'\n",
       "          + ' to learn more about interactive tables.';\n",
       "        element.innerHTML = '';\n",
       "        dataTable['output_type'] = 'display_data';\n",
       "        await google.colab.output.renderOutput(dataTable, element);\n",
       "        const docLink = document.createElement('div');\n",
       "        docLink.innerHTML = docLinkHtml;\n",
       "        element.appendChild(docLink);\n",
       "      }\n",
       "    </script>\n",
       "  </div>\n",
       "\n",
       "\n",
       "<div id=\"df-59ab676d-d061-4851-a015-9917df446f52\">\n",
       "  <button class=\"colab-df-quickchart\" onclick=\"quickchart('df-59ab676d-d061-4851-a015-9917df446f52')\"\n",
       "            title=\"Suggest charts\"\n",
       "            style=\"display:none;\">\n",
       "\n",
       "<svg xmlns=\"http://www.w3.org/2000/svg\" height=\"24px\"viewBox=\"0 0 24 24\"\n",
       "     width=\"24px\">\n",
       "    <g>\n",
       "        <path d=\"M19 3H5c-1.1 0-2 .9-2 2v14c0 1.1.9 2 2 2h14c1.1 0 2-.9 2-2V5c0-1.1-.9-2-2-2zM9 17H7v-7h2v7zm4 0h-2V7h2v10zm4 0h-2v-4h2v4z\"/>\n",
       "    </g>\n",
       "</svg>\n",
       "  </button>\n",
       "\n",
       "<style>\n",
       "  .colab-df-quickchart {\n",
       "      --bg-color: #E8F0FE;\n",
       "      --fill-color: #1967D2;\n",
       "      --hover-bg-color: #E2EBFA;\n",
       "      --hover-fill-color: #174EA6;\n",
       "      --disabled-fill-color: #AAA;\n",
       "      --disabled-bg-color: #DDD;\n",
       "  }\n",
       "\n",
       "  [theme=dark] .colab-df-quickchart {\n",
       "      --bg-color: #3B4455;\n",
       "      --fill-color: #D2E3FC;\n",
       "      --hover-bg-color: #434B5C;\n",
       "      --hover-fill-color: #FFFFFF;\n",
       "      --disabled-bg-color: #3B4455;\n",
       "      --disabled-fill-color: #666;\n",
       "  }\n",
       "\n",
       "  .colab-df-quickchart {\n",
       "    background-color: var(--bg-color);\n",
       "    border: none;\n",
       "    border-radius: 50%;\n",
       "    cursor: pointer;\n",
       "    display: none;\n",
       "    fill: var(--fill-color);\n",
       "    height: 32px;\n",
       "    padding: 0;\n",
       "    width: 32px;\n",
       "  }\n",
       "\n",
       "  .colab-df-quickchart:hover {\n",
       "    background-color: var(--hover-bg-color);\n",
       "    box-shadow: 0 1px 2px rgba(60, 64, 67, 0.3), 0 1px 3px 1px rgba(60, 64, 67, 0.15);\n",
       "    fill: var(--button-hover-fill-color);\n",
       "  }\n",
       "\n",
       "  .colab-df-quickchart-complete:disabled,\n",
       "  .colab-df-quickchart-complete:disabled:hover {\n",
       "    background-color: var(--disabled-bg-color);\n",
       "    fill: var(--disabled-fill-color);\n",
       "    box-shadow: none;\n",
       "  }\n",
       "\n",
       "  .colab-df-spinner {\n",
       "    border: 2px solid var(--fill-color);\n",
       "    border-color: transparent;\n",
       "    border-bottom-color: var(--fill-color);\n",
       "    animation:\n",
       "      spin 1s steps(1) infinite;\n",
       "  }\n",
       "\n",
       "  @keyframes spin {\n",
       "    0% {\n",
       "      border-color: transparent;\n",
       "      border-bottom-color: var(--fill-color);\n",
       "      border-left-color: var(--fill-color);\n",
       "    }\n",
       "    20% {\n",
       "      border-color: transparent;\n",
       "      border-left-color: var(--fill-color);\n",
       "      border-top-color: var(--fill-color);\n",
       "    }\n",
       "    30% {\n",
       "      border-color: transparent;\n",
       "      border-left-color: var(--fill-color);\n",
       "      border-top-color: var(--fill-color);\n",
       "      border-right-color: var(--fill-color);\n",
       "    }\n",
       "    40% {\n",
       "      border-color: transparent;\n",
       "      border-right-color: var(--fill-color);\n",
       "      border-top-color: var(--fill-color);\n",
       "    }\n",
       "    60% {\n",
       "      border-color: transparent;\n",
       "      border-right-color: var(--fill-color);\n",
       "    }\n",
       "    80% {\n",
       "      border-color: transparent;\n",
       "      border-right-color: var(--fill-color);\n",
       "      border-bottom-color: var(--fill-color);\n",
       "    }\n",
       "    90% {\n",
       "      border-color: transparent;\n",
       "      border-bottom-color: var(--fill-color);\n",
       "    }\n",
       "  }\n",
       "</style>\n",
       "\n",
       "  <script>\n",
       "    async function quickchart(key) {\n",
       "      const quickchartButtonEl =\n",
       "        document.querySelector('#' + key + ' button');\n",
       "      quickchartButtonEl.disabled = true;  // To prevent multiple clicks.\n",
       "      quickchartButtonEl.classList.add('colab-df-spinner');\n",
       "      try {\n",
       "        const charts = await google.colab.kernel.invokeFunction(\n",
       "            'suggestCharts', [key], {});\n",
       "      } catch (error) {\n",
       "        console.error('Error during call to suggestCharts:', error);\n",
       "      }\n",
       "      quickchartButtonEl.classList.remove('colab-df-spinner');\n",
       "      quickchartButtonEl.classList.add('colab-df-quickchart-complete');\n",
       "    }\n",
       "    (() => {\n",
       "      let quickchartButtonEl =\n",
       "        document.querySelector('#df-59ab676d-d061-4851-a015-9917df446f52 button');\n",
       "      quickchartButtonEl.style.display =\n",
       "        google.colab.kernel.accessAllowed ? 'block' : 'none';\n",
       "    })();\n",
       "  </script>\n",
       "</div>\n",
       "    </div>\n",
       "  </div>\n"
      ],
      "application/vnd.google.colaboratory.intrinsic+json": {
       "type": "dataframe",
       "summary": "{\n  \"name\": \"pd\",\n  \"rows\": 8,\n  \"fields\": [\n    {\n      \"column\": 0,\n      \"properties\": {\n        \"dtype\": \"number\",\n        \"std\": 2109.998330300169,\n        \"min\": 0.00022087448451202363,\n        \"max\": 5968.0,\n        \"num_unique_values\": 6,\n        \"samples\": [\n          5968.0,\n          0.027151836082339287,\n          0.02858724072575569\n        ],\n        \"semantic_type\": \"\",\n        \"description\": \"\"\n      }\n    }\n  ]\n}"
      }
     },
     "metadata": {},
     "execution_count": 74
    }
   ]
  },
  {
   "cell_type": "code",
   "source": [
    "real_data.head()"
   ],
   "metadata": {
    "colab": {
     "base_uri": "https://localhost:8080/",
     "height": 244
    },
    "id": "IvfMIZZU0bYr",
    "executionInfo": {
     "status": "ok",
     "timestamp": 1716208898734,
     "user_tz": -180,
     "elapsed": 4,
     "user": {
      "displayName": "Razvan Radutoiu",
      "userId": "02562257159567955024"
     }
    },
    "outputId": "6c5c6576-0816-4636-b3d8-fc7792ebaa5e"
   },
   "execution_count": null,
   "outputs": [
    {
     "output_type": "execute_result",
     "data": {
      "text/plain": [
       "   frame.encap_type  frame.len  frame.number  frame.time_delta  \\\n",
       "0                20        348             1          0.000000   \n",
       "1                20        263             2         -0.000184   \n",
       "2                20        117             3         -0.000115   \n",
       "3                20        213             4          0.000546   \n",
       "4                20        265             5         -0.000347   \n",
       "\n",
       "   frame.time_delta_displayed  frame.time_epoch  frame.time_relative  \\\n",
       "0                    0.000000          2.000539             0.000000   \n",
       "1                   -0.000184          2.000355            -0.000184   \n",
       "2                   -0.000115          2.000240            -0.000299   \n",
       "3                    0.000546          2.000786             0.000247   \n",
       "4                   -0.000347          2.000439            -0.000100   \n",
       "\n",
       "   wlan.duration  wlan.fc.frag  wlan.fc.order  wlan.fc.moredata  \\\n",
       "0              0             0              0                 0   \n",
       "1              0             0              0                 0   \n",
       "2              0             0              0                 0   \n",
       "3              0             0              0                 0   \n",
       "4              0             0              0                 0   \n",
       "\n",
       "   wlan.fc.protected  wlan.fc.pwrmgt  wlan.fc.type  wlan.fc.retry  \\\n",
       "0                  0               0             0              0   \n",
       "1                  0               0             0              0   \n",
       "2                  0               0             0              0   \n",
       "3                  0               0             0              0   \n",
       "4                  0               0             0              0   \n",
       "\n",
       "   wlan.fc.subtype  predicted label  \n",
       "0                8         0.028587  \n",
       "1                8         0.028587  \n",
       "2                8         0.028587  \n",
       "3                8         0.028587  \n",
       "4                8         0.028587  "
      ],
      "text/html": [
       "\n",
       "  <div id=\"df-57ff61a7-ef97-4ef5-ac9c-ef07926911c1\" class=\"colab-df-container\">\n",
       "    <div>\n",
       "<style scoped>\n",
       "    .dataframe tbody tr th:only-of-type {\n",
       "        vertical-align: middle;\n",
       "    }\n",
       "\n",
       "    .dataframe tbody tr th {\n",
       "        vertical-align: top;\n",
       "    }\n",
       "\n",
       "    .dataframe thead th {\n",
       "        text-align: right;\n",
       "    }\n",
       "</style>\n",
       "<table border=\"1\" class=\"dataframe\">\n",
       "  <thead>\n",
       "    <tr style=\"text-align: right;\">\n",
       "      <th></th>\n",
       "      <th>frame.encap_type</th>\n",
       "      <th>frame.len</th>\n",
       "      <th>frame.number</th>\n",
       "      <th>frame.time_delta</th>\n",
       "      <th>frame.time_delta_displayed</th>\n",
       "      <th>frame.time_epoch</th>\n",
       "      <th>frame.time_relative</th>\n",
       "      <th>wlan.duration</th>\n",
       "      <th>wlan.fc.frag</th>\n",
       "      <th>wlan.fc.order</th>\n",
       "      <th>wlan.fc.moredata</th>\n",
       "      <th>wlan.fc.protected</th>\n",
       "      <th>wlan.fc.pwrmgt</th>\n",
       "      <th>wlan.fc.type</th>\n",
       "      <th>wlan.fc.retry</th>\n",
       "      <th>wlan.fc.subtype</th>\n",
       "      <th>predicted label</th>\n",
       "    </tr>\n",
       "  </thead>\n",
       "  <tbody>\n",
       "    <tr>\n",
       "      <th>0</th>\n",
       "      <td>20</td>\n",
       "      <td>348</td>\n",
       "      <td>1</td>\n",
       "      <td>0.000000</td>\n",
       "      <td>0.000000</td>\n",
       "      <td>2.000539</td>\n",
       "      <td>0.000000</td>\n",
       "      <td>0</td>\n",
       "      <td>0</td>\n",
       "      <td>0</td>\n",
       "      <td>0</td>\n",
       "      <td>0</td>\n",
       "      <td>0</td>\n",
       "      <td>0</td>\n",
       "      <td>0</td>\n",
       "      <td>8</td>\n",
       "      <td>0.028587</td>\n",
       "    </tr>\n",
       "    <tr>\n",
       "      <th>1</th>\n",
       "      <td>20</td>\n",
       "      <td>263</td>\n",
       "      <td>2</td>\n",
       "      <td>-0.000184</td>\n",
       "      <td>-0.000184</td>\n",
       "      <td>2.000355</td>\n",
       "      <td>-0.000184</td>\n",
       "      <td>0</td>\n",
       "      <td>0</td>\n",
       "      <td>0</td>\n",
       "      <td>0</td>\n",
       "      <td>0</td>\n",
       "      <td>0</td>\n",
       "      <td>0</td>\n",
       "      <td>0</td>\n",
       "      <td>8</td>\n",
       "      <td>0.028587</td>\n",
       "    </tr>\n",
       "    <tr>\n",
       "      <th>2</th>\n",
       "      <td>20</td>\n",
       "      <td>117</td>\n",
       "      <td>3</td>\n",
       "      <td>-0.000115</td>\n",
       "      <td>-0.000115</td>\n",
       "      <td>2.000240</td>\n",
       "      <td>-0.000299</td>\n",
       "      <td>0</td>\n",
       "      <td>0</td>\n",
       "      <td>0</td>\n",
       "      <td>0</td>\n",
       "      <td>0</td>\n",
       "      <td>0</td>\n",
       "      <td>0</td>\n",
       "      <td>0</td>\n",
       "      <td>8</td>\n",
       "      <td>0.028587</td>\n",
       "    </tr>\n",
       "    <tr>\n",
       "      <th>3</th>\n",
       "      <td>20</td>\n",
       "      <td>213</td>\n",
       "      <td>4</td>\n",
       "      <td>0.000546</td>\n",
       "      <td>0.000546</td>\n",
       "      <td>2.000786</td>\n",
       "      <td>0.000247</td>\n",
       "      <td>0</td>\n",
       "      <td>0</td>\n",
       "      <td>0</td>\n",
       "      <td>0</td>\n",
       "      <td>0</td>\n",
       "      <td>0</td>\n",
       "      <td>0</td>\n",
       "      <td>0</td>\n",
       "      <td>8</td>\n",
       "      <td>0.028587</td>\n",
       "    </tr>\n",
       "    <tr>\n",
       "      <th>4</th>\n",
       "      <td>20</td>\n",
       "      <td>265</td>\n",
       "      <td>5</td>\n",
       "      <td>-0.000347</td>\n",
       "      <td>-0.000347</td>\n",
       "      <td>2.000439</td>\n",
       "      <td>-0.000100</td>\n",
       "      <td>0</td>\n",
       "      <td>0</td>\n",
       "      <td>0</td>\n",
       "      <td>0</td>\n",
       "      <td>0</td>\n",
       "      <td>0</td>\n",
       "      <td>0</td>\n",
       "      <td>0</td>\n",
       "      <td>8</td>\n",
       "      <td>0.028587</td>\n",
       "    </tr>\n",
       "  </tbody>\n",
       "</table>\n",
       "</div>\n",
       "    <div class=\"colab-df-buttons\">\n",
       "\n",
       "  <div class=\"colab-df-container\">\n",
       "    <button class=\"colab-df-convert\" onclick=\"convertToInteractive('df-57ff61a7-ef97-4ef5-ac9c-ef07926911c1')\"\n",
       "            title=\"Convert this dataframe to an interactive table.\"\n",
       "            style=\"display:none;\">\n",
       "\n",
       "  <svg xmlns=\"http://www.w3.org/2000/svg\" height=\"24px\" viewBox=\"0 -960 960 960\">\n",
       "    <path d=\"M120-120v-720h720v720H120Zm60-500h600v-160H180v160Zm220 220h160v-160H400v160Zm0 220h160v-160H400v160ZM180-400h160v-160H180v160Zm440 0h160v-160H620v160ZM180-180h160v-160H180v160Zm440 0h160v-160H620v160Z\"/>\n",
       "  </svg>\n",
       "    </button>\n",
       "\n",
       "  <style>\n",
       "    .colab-df-container {\n",
       "      display:flex;\n",
       "      gap: 12px;\n",
       "    }\n",
       "\n",
       "    .colab-df-convert {\n",
       "      background-color: #E8F0FE;\n",
       "      border: none;\n",
       "      border-radius: 50%;\n",
       "      cursor: pointer;\n",
       "      display: none;\n",
       "      fill: #1967D2;\n",
       "      height: 32px;\n",
       "      padding: 0 0 0 0;\n",
       "      width: 32px;\n",
       "    }\n",
       "\n",
       "    .colab-df-convert:hover {\n",
       "      background-color: #E2EBFA;\n",
       "      box-shadow: 0px 1px 2px rgba(60, 64, 67, 0.3), 0px 1px 3px 1px rgba(60, 64, 67, 0.15);\n",
       "      fill: #174EA6;\n",
       "    }\n",
       "\n",
       "    .colab-df-buttons div {\n",
       "      margin-bottom: 4px;\n",
       "    }\n",
       "\n",
       "    [theme=dark] .colab-df-convert {\n",
       "      background-color: #3B4455;\n",
       "      fill: #D2E3FC;\n",
       "    }\n",
       "\n",
       "    [theme=dark] .colab-df-convert:hover {\n",
       "      background-color: #434B5C;\n",
       "      box-shadow: 0px 1px 3px 1px rgba(0, 0, 0, 0.15);\n",
       "      filter: drop-shadow(0px 1px 2px rgba(0, 0, 0, 0.3));\n",
       "      fill: #FFFFFF;\n",
       "    }\n",
       "  </style>\n",
       "\n",
       "    <script>\n",
       "      const buttonEl =\n",
       "        document.querySelector('#df-57ff61a7-ef97-4ef5-ac9c-ef07926911c1 button.colab-df-convert');\n",
       "      buttonEl.style.display =\n",
       "        google.colab.kernel.accessAllowed ? 'block' : 'none';\n",
       "\n",
       "      async function convertToInteractive(key) {\n",
       "        const element = document.querySelector('#df-57ff61a7-ef97-4ef5-ac9c-ef07926911c1');\n",
       "        const dataTable =\n",
       "          await google.colab.kernel.invokeFunction('convertToInteractive',\n",
       "                                                    [key], {});\n",
       "        if (!dataTable) return;\n",
       "\n",
       "        const docLinkHtml = 'Like what you see? Visit the ' +\n",
       "          '<a target=\"_blank\" href=https://colab.research.google.com/notebooks/data_table.ipynb>data table notebook</a>'\n",
       "          + ' to learn more about interactive tables.';\n",
       "        element.innerHTML = '';\n",
       "        dataTable['output_type'] = 'display_data';\n",
       "        await google.colab.output.renderOutput(dataTable, element);\n",
       "        const docLink = document.createElement('div');\n",
       "        docLink.innerHTML = docLinkHtml;\n",
       "        element.appendChild(docLink);\n",
       "      }\n",
       "    </script>\n",
       "  </div>\n",
       "\n",
       "\n",
       "<div id=\"df-18f365d8-fab2-4ea4-bbd1-c3ed8dc105f4\">\n",
       "  <button class=\"colab-df-quickchart\" onclick=\"quickchart('df-18f365d8-fab2-4ea4-bbd1-c3ed8dc105f4')\"\n",
       "            title=\"Suggest charts\"\n",
       "            style=\"display:none;\">\n",
       "\n",
       "<svg xmlns=\"http://www.w3.org/2000/svg\" height=\"24px\"viewBox=\"0 0 24 24\"\n",
       "     width=\"24px\">\n",
       "    <g>\n",
       "        <path d=\"M19 3H5c-1.1 0-2 .9-2 2v14c0 1.1.9 2 2 2h14c1.1 0 2-.9 2-2V5c0-1.1-.9-2-2-2zM9 17H7v-7h2v7zm4 0h-2V7h2v10zm4 0h-2v-4h2v4z\"/>\n",
       "    </g>\n",
       "</svg>\n",
       "  </button>\n",
       "\n",
       "<style>\n",
       "  .colab-df-quickchart {\n",
       "      --bg-color: #E8F0FE;\n",
       "      --fill-color: #1967D2;\n",
       "      --hover-bg-color: #E2EBFA;\n",
       "      --hover-fill-color: #174EA6;\n",
       "      --disabled-fill-color: #AAA;\n",
       "      --disabled-bg-color: #DDD;\n",
       "  }\n",
       "\n",
       "  [theme=dark] .colab-df-quickchart {\n",
       "      --bg-color: #3B4455;\n",
       "      --fill-color: #D2E3FC;\n",
       "      --hover-bg-color: #434B5C;\n",
       "      --hover-fill-color: #FFFFFF;\n",
       "      --disabled-bg-color: #3B4455;\n",
       "      --disabled-fill-color: #666;\n",
       "  }\n",
       "\n",
       "  .colab-df-quickchart {\n",
       "    background-color: var(--bg-color);\n",
       "    border: none;\n",
       "    border-radius: 50%;\n",
       "    cursor: pointer;\n",
       "    display: none;\n",
       "    fill: var(--fill-color);\n",
       "    height: 32px;\n",
       "    padding: 0;\n",
       "    width: 32px;\n",
       "  }\n",
       "\n",
       "  .colab-df-quickchart:hover {\n",
       "    background-color: var(--hover-bg-color);\n",
       "    box-shadow: 0 1px 2px rgba(60, 64, 67, 0.3), 0 1px 3px 1px rgba(60, 64, 67, 0.15);\n",
       "    fill: var(--button-hover-fill-color);\n",
       "  }\n",
       "\n",
       "  .colab-df-quickchart-complete:disabled,\n",
       "  .colab-df-quickchart-complete:disabled:hover {\n",
       "    background-color: var(--disabled-bg-color);\n",
       "    fill: var(--disabled-fill-color);\n",
       "    box-shadow: none;\n",
       "  }\n",
       "\n",
       "  .colab-df-spinner {\n",
       "    border: 2px solid var(--fill-color);\n",
       "    border-color: transparent;\n",
       "    border-bottom-color: var(--fill-color);\n",
       "    animation:\n",
       "      spin 1s steps(1) infinite;\n",
       "  }\n",
       "\n",
       "  @keyframes spin {\n",
       "    0% {\n",
       "      border-color: transparent;\n",
       "      border-bottom-color: var(--fill-color);\n",
       "      border-left-color: var(--fill-color);\n",
       "    }\n",
       "    20% {\n",
       "      border-color: transparent;\n",
       "      border-left-color: var(--fill-color);\n",
       "      border-top-color: var(--fill-color);\n",
       "    }\n",
       "    30% {\n",
       "      border-color: transparent;\n",
       "      border-left-color: var(--fill-color);\n",
       "      border-top-color: var(--fill-color);\n",
       "      border-right-color: var(--fill-color);\n",
       "    }\n",
       "    40% {\n",
       "      border-color: transparent;\n",
       "      border-right-color: var(--fill-color);\n",
       "      border-top-color: var(--fill-color);\n",
       "    }\n",
       "    60% {\n",
       "      border-color: transparent;\n",
       "      border-right-color: var(--fill-color);\n",
       "    }\n",
       "    80% {\n",
       "      border-color: transparent;\n",
       "      border-right-color: var(--fill-color);\n",
       "      border-bottom-color: var(--fill-color);\n",
       "    }\n",
       "    90% {\n",
       "      border-color: transparent;\n",
       "      border-bottom-color: var(--fill-color);\n",
       "    }\n",
       "  }\n",
       "</style>\n",
       "\n",
       "  <script>\n",
       "    async function quickchart(key) {\n",
       "      const quickchartButtonEl =\n",
       "        document.querySelector('#' + key + ' button');\n",
       "      quickchartButtonEl.disabled = true;  // To prevent multiple clicks.\n",
       "      quickchartButtonEl.classList.add('colab-df-spinner');\n",
       "      try {\n",
       "        const charts = await google.colab.kernel.invokeFunction(\n",
       "            'suggestCharts', [key], {});\n",
       "      } catch (error) {\n",
       "        console.error('Error during call to suggestCharts:', error);\n",
       "      }\n",
       "      quickchartButtonEl.classList.remove('colab-df-spinner');\n",
       "      quickchartButtonEl.classList.add('colab-df-quickchart-complete');\n",
       "    }\n",
       "    (() => {\n",
       "      let quickchartButtonEl =\n",
       "        document.querySelector('#df-18f365d8-fab2-4ea4-bbd1-c3ed8dc105f4 button');\n",
       "      quickchartButtonEl.style.display =\n",
       "        google.colab.kernel.accessAllowed ? 'block' : 'none';\n",
       "    })();\n",
       "  </script>\n",
       "</div>\n",
       "    </div>\n",
       "  </div>\n"
      ],
      "application/vnd.google.colaboratory.intrinsic+json": {
       "type": "dataframe",
       "variable_name": "real_data",
       "summary": "{\n  \"name\": \"real_data\",\n  \"rows\": 5968,\n  \"fields\": [\n    {\n      \"column\": \"frame.encap_type\",\n      \"properties\": {\n        \"dtype\": \"number\",\n        \"std\": 0,\n        \"min\": 20,\n        \"max\": 20,\n        \"num_unique_values\": 1,\n        \"samples\": [\n          20\n        ],\n        \"semantic_type\": \"\",\n        \"description\": \"\"\n      }\n    },\n    {\n      \"column\": \"frame.len\",\n      \"properties\": {\n        \"dtype\": \"number\",\n        \"std\": 87,\n        \"min\": 28,\n        \"max\": 740,\n        \"num_unique_values\": 152,\n        \"samples\": [\n          92\n        ],\n        \"semantic_type\": \"\",\n        \"description\": \"\"\n      }\n    },\n    {\n      \"column\": \"frame.number\",\n      \"properties\": {\n        \"dtype\": \"number\",\n        \"std\": 1722,\n        \"min\": 1,\n        \"max\": 5968,\n        \"num_unique_values\": 5968,\n        \"samples\": [\n          3905\n        ],\n        \"semantic_type\": \"\",\n        \"description\": \"\"\n      }\n    },\n    {\n      \"column\": \"frame.time_delta\",\n      \"properties\": {\n        \"dtype\": \"number\",\n        \"std\": 78.64085462680764,\n        \"min\": -4294.967279,\n        \"max\": 4295.966414,\n        \"num_unique_values\": 1731,\n        \"samples\": [\n          0.000511\n        ],\n        \"semantic_type\": \"\",\n        \"description\": \"\"\n      }\n    },\n    {\n      \"column\": \"frame.time_delta_displayed\",\n      \"properties\": {\n        \"dtype\": \"number\",\n        \"std\": 78.64085462680764,\n        \"min\": -4294.967279,\n        \"max\": 4295.966414,\n        \"num_unique_values\": 1731,\n        \"samples\": [\n          0.000511\n        ],\n        \"semantic_type\": \"\",\n        \"description\": \"\"\n      }\n    },\n    {\n      \"column\": \"frame.time_epoch\",\n      \"properties\": {\n        \"dtype\": \"number\",\n        \"std\": 70.70512654366365,\n        \"min\": 2.000068,\n        \"max\": 4363.967295,\n        \"num_unique_values\": 5867,\n        \"samples\": [\n          42.000042\n        ],\n        \"semantic_type\": \"\",\n        \"description\": \"\"\n      }\n    },\n    {\n      \"column\": \"frame.time_relative\",\n      \"properties\": {\n        \"dtype\": \"number\",\n        \"std\": 70.70512654366365,\n        \"min\": -0.000471,\n        \"max\": 4361.966756,\n        \"num_unique_values\": 5867,\n        \"samples\": [\n          39.999503\n        ],\n        \"semantic_type\": \"\",\n        \"description\": \"\"\n      }\n    },\n    {\n      \"column\": \"wlan.duration\",\n      \"properties\": {\n        \"dtype\": \"number\",\n        \"std\": 76,\n        \"min\": 0,\n        \"max\": 614,\n        \"num_unique_values\": 13,\n        \"samples\": [\n          48\n        ],\n        \"semantic_type\": \"\",\n        \"description\": \"\"\n      }\n    },\n    {\n      \"column\": \"wlan.fc.frag\",\n      \"properties\": {\n        \"dtype\": \"number\",\n        \"std\": 0,\n        \"min\": 0,\n        \"max\": 0,\n        \"num_unique_values\": 1,\n        \"samples\": [\n          0\n        ],\n        \"semantic_type\": \"\",\n        \"description\": \"\"\n      }\n    },\n    {\n      \"column\": \"wlan.fc.order\",\n      \"properties\": {\n        \"dtype\": \"number\",\n        \"std\": 0,\n        \"min\": 0,\n        \"max\": 0,\n        \"num_unique_values\": 1,\n        \"samples\": [\n          0\n        ],\n        \"semantic_type\": \"\",\n        \"description\": \"\"\n      }\n    },\n    {\n      \"column\": \"wlan.fc.moredata\",\n      \"properties\": {\n        \"dtype\": \"number\",\n        \"std\": 0,\n        \"min\": 0,\n        \"max\": 1,\n        \"num_unique_values\": 2,\n        \"samples\": [\n          1\n        ],\n        \"semantic_type\": \"\",\n        \"description\": \"\"\n      }\n    },\n    {\n      \"column\": \"wlan.fc.protected\",\n      \"properties\": {\n        \"dtype\": \"number\",\n        \"std\": 0,\n        \"min\": 0,\n        \"max\": 1,\n        \"num_unique_values\": 2,\n        \"samples\": [\n          1\n        ],\n        \"semantic_type\": \"\",\n        \"description\": \"\"\n      }\n    },\n    {\n      \"column\": \"wlan.fc.pwrmgt\",\n      \"properties\": {\n        \"dtype\": \"number\",\n        \"std\": 0,\n        \"min\": 0,\n        \"max\": 1,\n        \"num_unique_values\": 2,\n        \"samples\": [\n          1\n        ],\n        \"semantic_type\": \"\",\n        \"description\": \"\"\n      }\n    },\n    {\n      \"column\": \"wlan.fc.type\",\n      \"properties\": {\n        \"dtype\": \"number\",\n        \"std\": 0,\n        \"min\": 0,\n        \"max\": 2,\n        \"num_unique_values\": 2,\n        \"samples\": [\n          2\n        ],\n        \"semantic_type\": \"\",\n        \"description\": \"\"\n      }\n    },\n    {\n      \"column\": \"wlan.fc.retry\",\n      \"properties\": {\n        \"dtype\": \"number\",\n        \"std\": 0,\n        \"min\": 0,\n        \"max\": 1,\n        \"num_unique_values\": 2,\n        \"samples\": [\n          1\n        ],\n        \"semantic_type\": \"\",\n        \"description\": \"\"\n      }\n    },\n    {\n      \"column\": \"wlan.fc.subtype\",\n      \"properties\": {\n        \"dtype\": \"number\",\n        \"std\": 2,\n        \"min\": 0,\n        \"max\": 13,\n        \"num_unique_values\": 6,\n        \"samples\": [\n          8\n        ],\n        \"semantic_type\": \"\",\n        \"description\": \"\"\n      }\n    },\n    {\n      \"column\": \"predicted label\",\n      \"properties\": {\n        \"dtype\": \"float32\",\n        \"num_unique_values\": 256,\n        \"samples\": [\n          0.02711717039346695\n        ],\n        \"semantic_type\": \"\",\n        \"description\": \"\"\n      }\n    }\n  ]\n}"
      }
     },
     "metadata": {},
     "execution_count": 75
    }
   ]
  },
  {
   "cell_type": "code",
   "source": [
    "real_data[real_data['predicted label'] > 0.1]"
   ],
   "metadata": {
    "colab": {
     "base_uri": "https://localhost:8080/",
     "height": 141
    },
    "id": "3Bx0op9m0d8D",
    "executionInfo": {
     "status": "error",
     "timestamp": 1719124678878,
     "user_tz": -180,
     "elapsed": 8,
     "user": {
      "displayName": "Razvan Radutoiu",
      "userId": "02562257159567955024"
     }
    },
    "outputId": "1b0a2a1e-878f-4440-b56e-0dd93f561110"
   },
   "execution_count": null,
   "outputs": [
    {
     "output_type": "error",
     "ename": "NameError",
     "evalue": "name 'real_data' is not defined",
     "traceback": [
      "\u001B[0;31m---------------------------------------------------------------------------\u001B[0m",
      "\u001B[0;31mNameError\u001B[0m                                 Traceback (most recent call last)",
      "\u001B[0;32m<ipython-input-1-09a6a2349bbe>\u001B[0m in \u001B[0;36m<cell line: 1>\u001B[0;34m()\u001B[0m\n\u001B[0;32m----> 1\u001B[0;31m \u001B[0mreal_data\u001B[0m\u001B[0;34m[\u001B[0m\u001B[0mreal_data\u001B[0m\u001B[0;34m[\u001B[0m\u001B[0;34m'predicted label'\u001B[0m\u001B[0;34m]\u001B[0m \u001B[0;34m>\u001B[0m \u001B[0;36m0.1\u001B[0m\u001B[0;34m]\u001B[0m\u001B[0;34m\u001B[0m\u001B[0;34m\u001B[0m\u001B[0m\n\u001B[0m",
      "\u001B[0;31mNameError\u001B[0m: name 'real_data' is not defined"
     ]
    }
   ]
  },
  {
   "cell_type": "markdown",
   "source": [
    "## Save model as ONNX for later usage"
   ],
   "metadata": {
    "id": "t4Ia9xKhAp4Z"
   }
  },
  {
   "cell_type": "code",
   "source": [
    "import tf2onnx\n",
    "import onnx"
   ],
   "metadata": {
    "id": "LiWRyEMP23p-",
    "executionInfo": {
     "status": "ok",
     "timestamp": 1719209696414,
     "user_tz": -180,
     "elapsed": 297,
     "user": {
      "displayName": "Razvan Radutoiu",
      "userId": "02562257159567955024"
     }
    }
   },
   "execution_count": 51,
   "outputs": []
  },
  {
   "cell_type": "code",
   "source": [
    "input_signature = [tf.TensorSpec([None, x_train.shape[1]], tf.float32, name='input')]\n",
    "model.output_names=['output']\n"
   ],
   "metadata": {
    "id": "-ChFdG804glA",
    "executionInfo": {
     "status": "ok",
     "timestamp": 1719215949901,
     "user_tz": -180,
     "elapsed": 298,
     "user": {
      "displayName": "Razvan Radutoiu",
      "userId": "02562257159567955024"
     }
    }
   },
   "execution_count": 119,
   "outputs": []
  },
  {
   "cell_type": "code",
   "source": [
    "print(input_signature)\n",
    "onnx_model, _ = tf2onnx.convert.from_keras(model, input_signature, opset=17)\n"
   ],
   "metadata": {
    "id": "kfR1zxmi37bG",
    "executionInfo": {
     "status": "ok",
     "timestamp": 1719215952226,
     "user_tz": -180,
     "elapsed": 753,
     "user": {
      "displayName": "Razvan Radutoiu",
      "userId": "02562257159567955024"
     }
    },
    "colab": {
     "base_uri": "https://localhost:8080/"
    },
    "outputId": "6010306e-0bf3-491c-d488-ce6326505b75"
   },
   "execution_count": 120,
   "outputs": [
    {
     "output_type": "stream",
     "name": "stderr",
     "text": [
      "WARNING:tensorflow:Issue encountered when serializing table_initializer.\n",
      "Type is unsupported, or the types of the items don't match field type in CollectionDef. Note this is a warning and probably safe to ignore.\n",
      "'NoneType' object has no attribute 'name'\n"
     ]
    },
    {
     "output_type": "stream",
     "name": "stdout",
     "text": [
      "[TensorSpec(shape=(None, 17), dtype=tf.float32, name='input')]\n"
     ]
    }
   ]
  },
  {
   "cell_type": "code",
   "source": [
    "onnx.save(onnx_model, \"kr00k.onnx\")"
   ],
   "metadata": {
    "id": "LBuEj1P84NMv",
    "executionInfo": {
     "status": "ok",
     "timestamp": 1719215960743,
     "user_tz": -180,
     "elapsed": 315,
     "user": {
      "displayName": "Razvan Radutoiu",
      "userId": "02562257159567955024"
     }
    }
   },
   "execution_count": 121,
   "outputs": []
  }
 ]
}
